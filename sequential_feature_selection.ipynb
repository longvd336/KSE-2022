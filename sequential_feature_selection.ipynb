{
 "cells": [
  {
   "cell_type": "code",
   "execution_count": 5,
   "id": "3b414d65",
   "metadata": {},
   "outputs": [],
   "source": [
    "import numpy as np\n",
    "import pandas as pd\n",
    "import matplotlib.pyplot as plt\n",
    "%matplotlib inline   \n",
    "import seaborn as sns\n",
    "import warnings\n",
    "import matplotlib as mpl\n",
    "\n",
    "from scipy import stats\n",
    "from sklearn import preprocessing \n",
    "from sklearn.preprocessing import MinMaxScaler\n",
    "from sklearn.pipeline import make_pipeline\n",
    "from skrebate import ReliefF\n",
    "from sklearn.decomposition import PCA\n",
    "from sklearn.ensemble import RandomForestClassifier\n",
    "from sklearn.model_selection import cross_val_score\n"
   ]
  },
  {
   "cell_type": "code",
   "execution_count": 6,
   "id": "057e770d",
   "metadata": {
    "scrolled": true
   },
   "outputs": [
    {
     "name": "stderr",
     "output_type": "stream",
     "text": [
      "<ipython-input-6-cc550c6d2cf5>:14: SettingWithCopyWarning: \n",
      "A value is trying to be set on a copy of a slice from a DataFrame.\n",
      "Try using .loc[row_indexer,col_indexer] = value instead\n",
      "\n",
      "See the caveats in the documentation: https://pandas.pydata.org/pandas-docs/stable/user_guide/indexing.html#returning-a-view-versus-a-copy\n",
      "  degs_gene_data[\"label\"]  = data[label]\n"
     ]
    },
    {
     "data": {
      "text/html": [
       "<div>\n",
       "<style scoped>\n",
       "    .dataframe tbody tr th:only-of-type {\n",
       "        vertical-align: middle;\n",
       "    }\n",
       "\n",
       "    .dataframe tbody tr th {\n",
       "        vertical-align: top;\n",
       "    }\n",
       "\n",
       "    .dataframe thead th {\n",
       "        text-align: right;\n",
       "    }\n",
       "</style>\n",
       "<table border=\"1\" class=\"dataframe\">\n",
       "  <thead>\n",
       "    <tr style=\"text-align: right;\">\n",
       "      <th></th>\n",
       "      <th>SLC39A8</th>\n",
       "      <th>RHAG</th>\n",
       "      <th>DDIT4</th>\n",
       "      <th>MPO</th>\n",
       "      <th>RRM2</th>\n",
       "      <th>CCL3</th>\n",
       "      <th>TGFBI</th>\n",
       "      <th>MAFF</th>\n",
       "      <th>TYMS</th>\n",
       "      <th>ENPP2</th>\n",
       "      <th>...</th>\n",
       "      <th>FEN1</th>\n",
       "      <th>AURKA</th>\n",
       "      <th>FRAT1</th>\n",
       "      <th>SNRPG</th>\n",
       "      <th>KIF2C</th>\n",
       "      <th>POLE2</th>\n",
       "      <th>UBE2C</th>\n",
       "      <th>AURKB</th>\n",
       "      <th>CENPF</th>\n",
       "      <th>label</th>\n",
       "    </tr>\n",
       "  </thead>\n",
       "  <tbody>\n",
       "    <tr>\n",
       "      <th>0</th>\n",
       "      <td>7.837760</td>\n",
       "      <td>4.112866</td>\n",
       "      <td>8.046405</td>\n",
       "      <td>2.324069</td>\n",
       "      <td>4.759059</td>\n",
       "      <td>3.140721</td>\n",
       "      <td>4.143039</td>\n",
       "      <td>8.578116</td>\n",
       "      <td>5.230842</td>\n",
       "      <td>3.862937</td>\n",
       "      <td>...</td>\n",
       "      <td>4.062130</td>\n",
       "      <td>3.009849</td>\n",
       "      <td>8.785775</td>\n",
       "      <td>9.787393</td>\n",
       "      <td>2.240854</td>\n",
       "      <td>2.622261</td>\n",
       "      <td>4.787508</td>\n",
       "      <td>3.002504</td>\n",
       "      <td>2.246339</td>\n",
       "      <td>1</td>\n",
       "    </tr>\n",
       "    <tr>\n",
       "      <th>1</th>\n",
       "      <td>7.751983</td>\n",
       "      <td>1.485795</td>\n",
       "      <td>8.971049</td>\n",
       "      <td>5.258546</td>\n",
       "      <td>7.684430</td>\n",
       "      <td>2.811141</td>\n",
       "      <td>4.977650</td>\n",
       "      <td>4.715507</td>\n",
       "      <td>7.567845</td>\n",
       "      <td>3.212268</td>\n",
       "      <td>...</td>\n",
       "      <td>4.651380</td>\n",
       "      <td>4.084429</td>\n",
       "      <td>8.823993</td>\n",
       "      <td>9.877403</td>\n",
       "      <td>3.083158</td>\n",
       "      <td>2.470562</td>\n",
       "      <td>5.049623</td>\n",
       "      <td>2.667229</td>\n",
       "      <td>3.301098</td>\n",
       "      <td>0</td>\n",
       "    </tr>\n",
       "    <tr>\n",
       "      <th>2</th>\n",
       "      <td>10.279053</td>\n",
       "      <td>1.925620</td>\n",
       "      <td>8.712714</td>\n",
       "      <td>1.856427</td>\n",
       "      <td>5.890788</td>\n",
       "      <td>5.947866</td>\n",
       "      <td>4.036440</td>\n",
       "      <td>9.109963</td>\n",
       "      <td>6.066830</td>\n",
       "      <td>3.086101</td>\n",
       "      <td>...</td>\n",
       "      <td>3.554817</td>\n",
       "      <td>2.921564</td>\n",
       "      <td>8.135534</td>\n",
       "      <td>10.673182</td>\n",
       "      <td>2.399208</td>\n",
       "      <td>2.270243</td>\n",
       "      <td>4.136699</td>\n",
       "      <td>3.181530</td>\n",
       "      <td>2.663032</td>\n",
       "      <td>1</td>\n",
       "    </tr>\n",
       "    <tr>\n",
       "      <th>3</th>\n",
       "      <td>9.601609</td>\n",
       "      <td>5.888388</td>\n",
       "      <td>8.527441</td>\n",
       "      <td>5.750055</td>\n",
       "      <td>8.206514</td>\n",
       "      <td>5.134266</td>\n",
       "      <td>4.616064</td>\n",
       "      <td>5.156271</td>\n",
       "      <td>8.057016</td>\n",
       "      <td>2.684719</td>\n",
       "      <td>...</td>\n",
       "      <td>5.330526</td>\n",
       "      <td>4.034944</td>\n",
       "      <td>7.884369</td>\n",
       "      <td>9.025149</td>\n",
       "      <td>3.205451</td>\n",
       "      <td>2.998327</td>\n",
       "      <td>5.846744</td>\n",
       "      <td>3.883344</td>\n",
       "      <td>3.662963</td>\n",
       "      <td>1</td>\n",
       "    </tr>\n",
       "    <tr>\n",
       "      <th>4</th>\n",
       "      <td>7.785195</td>\n",
       "      <td>4.846312</td>\n",
       "      <td>9.301229</td>\n",
       "      <td>8.695507</td>\n",
       "      <td>10.032503</td>\n",
       "      <td>6.555199</td>\n",
       "      <td>6.542890</td>\n",
       "      <td>8.041716</td>\n",
       "      <td>9.813448</td>\n",
       "      <td>7.125344</td>\n",
       "      <td>...</td>\n",
       "      <td>6.783366</td>\n",
       "      <td>6.314857</td>\n",
       "      <td>8.603358</td>\n",
       "      <td>10.328848</td>\n",
       "      <td>4.966912</td>\n",
       "      <td>4.004817</td>\n",
       "      <td>6.864789</td>\n",
       "      <td>5.244933</td>\n",
       "      <td>4.199692</td>\n",
       "      <td>1</td>\n",
       "    </tr>\n",
       "    <tr>\n",
       "      <th>...</th>\n",
       "      <td>...</td>\n",
       "      <td>...</td>\n",
       "      <td>...</td>\n",
       "      <td>...</td>\n",
       "      <td>...</td>\n",
       "      <td>...</td>\n",
       "      <td>...</td>\n",
       "      <td>...</td>\n",
       "      <td>...</td>\n",
       "      <td>...</td>\n",
       "      <td>...</td>\n",
       "      <td>...</td>\n",
       "      <td>...</td>\n",
       "      <td>...</td>\n",
       "      <td>...</td>\n",
       "      <td>...</td>\n",
       "      <td>...</td>\n",
       "      <td>...</td>\n",
       "      <td>...</td>\n",
       "      <td>...</td>\n",
       "      <td>...</td>\n",
       "    </tr>\n",
       "    <tr>\n",
       "      <th>194</th>\n",
       "      <td>7.181331</td>\n",
       "      <td>2.365467</td>\n",
       "      <td>8.184828</td>\n",
       "      <td>6.181315</td>\n",
       "      <td>7.871825</td>\n",
       "      <td>2.929050</td>\n",
       "      <td>7.998090</td>\n",
       "      <td>4.431776</td>\n",
       "      <td>7.034406</td>\n",
       "      <td>3.780909</td>\n",
       "      <td>...</td>\n",
       "      <td>4.477342</td>\n",
       "      <td>4.055716</td>\n",
       "      <td>8.839066</td>\n",
       "      <td>9.910092</td>\n",
       "      <td>2.871094</td>\n",
       "      <td>3.078237</td>\n",
       "      <td>3.940554</td>\n",
       "      <td>3.216972</td>\n",
       "      <td>3.462929</td>\n",
       "      <td>0</td>\n",
       "    </tr>\n",
       "    <tr>\n",
       "      <th>195</th>\n",
       "      <td>5.251613</td>\n",
       "      <td>2.714796</td>\n",
       "      <td>6.427088</td>\n",
       "      <td>3.523980</td>\n",
       "      <td>7.221401</td>\n",
       "      <td>2.154800</td>\n",
       "      <td>4.979873</td>\n",
       "      <td>7.541867</td>\n",
       "      <td>7.252205</td>\n",
       "      <td>2.629904</td>\n",
       "      <td>...</td>\n",
       "      <td>5.162441</td>\n",
       "      <td>3.987030</td>\n",
       "      <td>9.600255</td>\n",
       "      <td>6.991776</td>\n",
       "      <td>2.501947</td>\n",
       "      <td>2.859321</td>\n",
       "      <td>4.154692</td>\n",
       "      <td>3.430309</td>\n",
       "      <td>3.199781</td>\n",
       "      <td>0</td>\n",
       "    </tr>\n",
       "    <tr>\n",
       "      <th>196</th>\n",
       "      <td>5.905524</td>\n",
       "      <td>8.074482</td>\n",
       "      <td>6.259182</td>\n",
       "      <td>2.492298</td>\n",
       "      <td>5.146876</td>\n",
       "      <td>1.794615</td>\n",
       "      <td>8.446067</td>\n",
       "      <td>8.769124</td>\n",
       "      <td>4.142922</td>\n",
       "      <td>2.246056</td>\n",
       "      <td>...</td>\n",
       "      <td>4.168839</td>\n",
       "      <td>4.630949</td>\n",
       "      <td>7.698138</td>\n",
       "      <td>9.373841</td>\n",
       "      <td>2.188718</td>\n",
       "      <td>2.145200</td>\n",
       "      <td>4.212061</td>\n",
       "      <td>2.516086</td>\n",
       "      <td>2.280285</td>\n",
       "      <td>0</td>\n",
       "    </tr>\n",
       "    <tr>\n",
       "      <th>197</th>\n",
       "      <td>4.786756</td>\n",
       "      <td>2.279402</td>\n",
       "      <td>5.955421</td>\n",
       "      <td>8.199064</td>\n",
       "      <td>8.008226</td>\n",
       "      <td>3.352024</td>\n",
       "      <td>9.477510</td>\n",
       "      <td>5.653967</td>\n",
       "      <td>7.454457</td>\n",
       "      <td>2.954322</td>\n",
       "      <td>...</td>\n",
       "      <td>4.676477</td>\n",
       "      <td>4.053300</td>\n",
       "      <td>8.976000</td>\n",
       "      <td>6.692781</td>\n",
       "      <td>2.799296</td>\n",
       "      <td>2.676570</td>\n",
       "      <td>4.434418</td>\n",
       "      <td>3.215429</td>\n",
       "      <td>3.070606</td>\n",
       "      <td>0</td>\n",
       "    </tr>\n",
       "    <tr>\n",
       "      <th>198</th>\n",
       "      <td>4.722408</td>\n",
       "      <td>1.882598</td>\n",
       "      <td>5.801993</td>\n",
       "      <td>1.993536</td>\n",
       "      <td>5.432369</td>\n",
       "      <td>2.500910</td>\n",
       "      <td>9.852480</td>\n",
       "      <td>3.562274</td>\n",
       "      <td>4.493001</td>\n",
       "      <td>2.635489</td>\n",
       "      <td>...</td>\n",
       "      <td>4.174478</td>\n",
       "      <td>3.425931</td>\n",
       "      <td>7.673721</td>\n",
       "      <td>6.055497</td>\n",
       "      <td>2.052296</td>\n",
       "      <td>2.003631</td>\n",
       "      <td>3.780489</td>\n",
       "      <td>3.033883</td>\n",
       "      <td>2.414788</td>\n",
       "      <td>0</td>\n",
       "    </tr>\n",
       "  </tbody>\n",
       "</table>\n",
       "<p>199 rows × 109 columns</p>\n",
       "</div>"
      ],
      "text/plain": [
       "       SLC39A8      RHAG     DDIT4       MPO       RRM2      CCL3     TGFBI  \\\n",
       "0     7.837760  4.112866  8.046405  2.324069   4.759059  3.140721  4.143039   \n",
       "1     7.751983  1.485795  8.971049  5.258546   7.684430  2.811141  4.977650   \n",
       "2    10.279053  1.925620  8.712714  1.856427   5.890788  5.947866  4.036440   \n",
       "3     9.601609  5.888388  8.527441  5.750055   8.206514  5.134266  4.616064   \n",
       "4     7.785195  4.846312  9.301229  8.695507  10.032503  6.555199  6.542890   \n",
       "..         ...       ...       ...       ...        ...       ...       ...   \n",
       "194   7.181331  2.365467  8.184828  6.181315   7.871825  2.929050  7.998090   \n",
       "195   5.251613  2.714796  6.427088  3.523980   7.221401  2.154800  4.979873   \n",
       "196   5.905524  8.074482  6.259182  2.492298   5.146876  1.794615  8.446067   \n",
       "197   4.786756  2.279402  5.955421  8.199064   8.008226  3.352024  9.477510   \n",
       "198   4.722408  1.882598  5.801993  1.993536   5.432369  2.500910  9.852480   \n",
       "\n",
       "         MAFF      TYMS     ENPP2  ...      FEN1     AURKA     FRAT1  \\\n",
       "0    8.578116  5.230842  3.862937  ...  4.062130  3.009849  8.785775   \n",
       "1    4.715507  7.567845  3.212268  ...  4.651380  4.084429  8.823993   \n",
       "2    9.109963  6.066830  3.086101  ...  3.554817  2.921564  8.135534   \n",
       "3    5.156271  8.057016  2.684719  ...  5.330526  4.034944  7.884369   \n",
       "4    8.041716  9.813448  7.125344  ...  6.783366  6.314857  8.603358   \n",
       "..        ...       ...       ...  ...       ...       ...       ...   \n",
       "194  4.431776  7.034406  3.780909  ...  4.477342  4.055716  8.839066   \n",
       "195  7.541867  7.252205  2.629904  ...  5.162441  3.987030  9.600255   \n",
       "196  8.769124  4.142922  2.246056  ...  4.168839  4.630949  7.698138   \n",
       "197  5.653967  7.454457  2.954322  ...  4.676477  4.053300  8.976000   \n",
       "198  3.562274  4.493001  2.635489  ...  4.174478  3.425931  7.673721   \n",
       "\n",
       "         SNRPG     KIF2C     POLE2     UBE2C     AURKB     CENPF  label  \n",
       "0     9.787393  2.240854  2.622261  4.787508  3.002504  2.246339      1  \n",
       "1     9.877403  3.083158  2.470562  5.049623  2.667229  3.301098      0  \n",
       "2    10.673182  2.399208  2.270243  4.136699  3.181530  2.663032      1  \n",
       "3     9.025149  3.205451  2.998327  5.846744  3.883344  3.662963      1  \n",
       "4    10.328848  4.966912  4.004817  6.864789  5.244933  4.199692      1  \n",
       "..         ...       ...       ...       ...       ...       ...    ...  \n",
       "194   9.910092  2.871094  3.078237  3.940554  3.216972  3.462929      0  \n",
       "195   6.991776  2.501947  2.859321  4.154692  3.430309  3.199781      0  \n",
       "196   9.373841  2.188718  2.145200  4.212061  2.516086  2.280285      0  \n",
       "197   6.692781  2.799296  2.676570  4.434418  3.215429  3.070606      0  \n",
       "198   6.055497  2.052296  2.003631  3.780489  3.033883  2.414788      0  \n",
       "\n",
       "[199 rows x 109 columns]"
      ]
     },
     "execution_count": 6,
     "metadata": {},
     "output_type": "execute_result"
    }
   ],
   "source": [
    "data_file = './data/GSE66099.csv'\n",
    "degs_file = './gene_diff_data.csv'\n",
    "# data pre-processing\n",
    "norm_filter = MinMaxScaler()\n",
    "\n",
    "label = 'Died'\n",
    "num_features = 10\n",
    "\n",
    "DEGs = pd.read_csv(degs_file)\n",
    "degs_gene_id = DEGs[\"X\"]\n",
    "\n",
    "data = pd.read_csv(data_file)\n",
    "degs_gene_data = data[degs_gene_id]\n",
    "degs_gene_data[\"label\"]  = data[label]\n",
    "degs_gene_data\n"
   ]
  },
  {
   "cell_type": "code",
   "execution_count": 7,
   "id": "f97f3ecb",
   "metadata": {},
   "outputs": [
    {
     "data": {
      "text/plain": [
       "array([ 7.83775973,  7.75198314, 10.27905306,  9.60160927,  7.78519525,\n",
       "        5.14753555,  7.14121395, 11.38452663,  8.26078177,  6.22483544,\n",
       "        6.46213086,  7.79898583,  4.20774828,  7.07662203,  3.93496862,\n",
       "        6.60139579,  3.97741554,  6.49158695,  8.16663839,  9.07082746,\n",
       "        5.01822753,  8.25139113,  6.27991797,  9.44387897,  8.43953965,\n",
       "        6.67005359,  8.2200189 ,  9.72462787,  7.56828044,  6.6055124 ,\n",
       "        7.65395323,  5.93015729,  7.287119  ,  3.26349989,  8.1171794 ,\n",
       "        4.62516107,  4.11643358,  3.59600687,  8.07753005,  6.01667048,\n",
       "        7.04779533,  8.38746683,  7.79722778,  5.72060779,  6.28258969,\n",
       "        7.2374142 ,  6.49645489,  3.61215667,  5.97706047,  3.84253424,\n",
       "        9.66056183,  3.00023329,  4.58147715,  8.71223199,  7.74541413,\n",
       "        5.02613673,  6.83645476,  5.73876807,  5.89086525,  6.73654376,\n",
       "        4.76253428,  9.6712716 ,  4.0463812 ,  7.44242834,  7.45057279,\n",
       "        7.41139449,  6.0985281 ,  5.41118317,  6.05895461,  6.65732257,\n",
       "        6.26393685,  6.84726095,  5.9067821 ,  6.50551648,  7.3581203 ,\n",
       "        8.94333888,  6.29726577,  6.36262909,  6.57832409,  5.34238642,\n",
       "        6.66983253,  5.58964049,  6.00320028,  4.24474175,  4.91631379,\n",
       "        3.48539853,  4.97147407,  7.57729956,  3.4640465 ,  7.37924445,\n",
       "        4.02765466,  7.25111141,  7.49798062,  5.92895672,  5.67323805,\n",
       "        7.25323234,  6.94031608,  5.13236575,  6.1545487 ,  9.25289288,\n",
       "        7.48669494,  6.70489097,  6.85308639, 10.75793529,  6.91920483,\n",
       "        7.14715703,  8.03888772,  8.00053995,  6.44255553,  3.88766418,\n",
       "        6.0089521 ,  6.87757696,  6.88983836,  3.6293707 ,  7.43884484,\n",
       "        6.41455139,  6.79736695,  6.8387766 ,  7.27500678,  6.45777135,\n",
       "        7.06419469,  5.27482781,  7.20533021,  6.40484053,  8.25867352,\n",
       "        8.4795643 ,  9.06358786,  7.37959271,  8.59103726,  9.13112435,\n",
       "        4.2160817 ,  6.38666927,  6.53413949,  7.05524064,  8.00359537,\n",
       "        7.7517083 ,  6.55296919,  3.97344291,  6.21756819,  7.71800103,\n",
       "        5.08321292,  7.32543527,  3.73357297,  5.96289649,  6.25488533,\n",
       "        5.51528262,  6.49556855,  5.5840581 ,  6.28286698,  5.29924817,\n",
       "        5.44299872,  5.27644433,  4.48412848,  7.63483282,  6.17307824,\n",
       "        6.44324445,  5.95482971,  6.23337413,  7.3983034 ,  7.18492633,\n",
       "        6.59929845,  8.66007562,  7.1164083 ,  7.04244229,  7.05850444,\n",
       "        6.36889782,  5.64419349,  8.73657829,  6.50258439,  9.33041046,\n",
       "        8.50777192,  5.43474874,  7.40883642,  6.5344254 ,  6.87359281,\n",
       "        9.76078223,  5.62929289,  5.64690092,  6.91028995,  4.98946249,\n",
       "        4.93166965,  7.0543754 ,  7.05357585,  7.78556452,  7.33778068,\n",
       "        8.85740552,  7.10689628,  6.81440809,  6.25427718,  4.85927238,\n",
       "        6.18707016,  7.56892027,  4.29071929,  8.32022719,  7.18133084,\n",
       "        5.25161318,  5.90552383,  4.78675566,  4.72240773])"
      ]
     },
     "execution_count": 7,
     "metadata": {},
     "output_type": "execute_result"
    }
   ],
   "source": [
    "# train_test_split\n",
    "from sklearn.model_selection import train_test_split\n",
    "from sklearn.preprocessing import StandardScaler\n",
    "\n",
    "# y = degs_gene_data.iloc[:,108].values\n",
    "X, y = degs_gene_data.iloc[:,0:107].values, degs_gene_data.iloc[:,108].values\n",
    "X_train, X_test, y_train, y_test = train_test_split(X, y, test_size = 0.2, random_state=123,\n",
    "                                                   shuffle=True, stratify=y )\n",
    "X[:,0]"
   ]
  },
  {
   "cell_type": "code",
   "execution_count": 8,
   "id": "485e4d46",
   "metadata": {},
   "outputs": [
    {
     "data": {
      "text/plain": [
       "<BarContainer object of 159 artists>"
      ]
     },
     "execution_count": 8,
     "metadata": {},
     "output_type": "execute_result"
    },
    {
     "data": {
      "image/png": "[encoded data removed]",
      "text/plain": [
       "<Figure size 432x288 with 1 Axes>"
      ]
     },
     "metadata": {
      "needs_background": "light"
     },
     "output_type": "display_data"
    }
   ],
   "source": [
    "# SLC39A8 before normalization\n",
    "plt.bar(list(range(159)),X_train[:,0])\n",
    "\n"
   ]
  },
  {
   "cell_type": "code",
   "execution_count": 6,
   "id": "25cf0465",
   "metadata": {},
   "outputs": [],
   "source": [
    "# X_train = preprocessing.normalize(X_train, axis=0)\n",
    "# X_test = preprocessing.normalize(X_test, axis=0)\n",
    "\n",
    "sc = StandardScaler()\n",
    "X_train_std = sc.fit_transform(X_train)\n",
    "X_test_std = sc.transform(X_test)\n",
    "# X_train\n",
    "# X_test.shape\n",
    "# X_train.shape"
   ]
  },
  {
   "cell_type": "code",
   "execution_count": 7,
   "id": "2ea0ab30",
   "metadata": {},
   "outputs": [
    {
     "data": {
      "text/plain": [
       "<BarContainer object of 159 artists>"
      ]
     },
     "execution_count": 7,
     "metadata": {},
     "output_type": "execute_result"
    },
    {
     "data": {
      "image/png": "[encoded data removed]",
      "text/plain": [
       "<Figure size 432x288 with 1 Axes>"
      ]
     },
     "metadata": {
      "needs_background": "light"
     },
     "output_type": "display_data"
    }
   ],
   "source": [
    "plt.bar(list(range(159)),X_train[:,0])\n",
    "# X_train[:,0].shape"
   ]
  },
  {
   "cell_type": "code",
   "execution_count": 8,
   "id": "f25bc1fe",
   "metadata": {},
   "outputs": [
    {
     "name": "stdout",
     "output_type": "stream",
     "text": [
      "Training accuracy: 86.79245283018868\n",
      "Test accuracy: 85.0\n"
     ]
    }
   ],
   "source": [
    "from sklearn.neighbors import KNeighborsClassifier\n",
    "\n",
    "model = KNeighborsClassifier(n_neighbors = 10, p = 2) #p = 2:distance cal by norm 2\n",
    "# can adding weight for ranking neighbor data point by distance the more near data point the most coefficient \n",
    "model.fit(X_train_std, y_train)\n",
    "\n",
    "print('Training accuracy:', np.mean(model.predict(X_train_std) == y_train)*100)\n",
    "print('Test accuracy:', np.mean(model.predict(X_test_std) == y_test)*100)"
   ]
  },
  {
   "cell_type": "code",
   "execution_count": 9,
   "id": "ea0320a3",
   "metadata": {},
   "outputs": [
    {
     "name": "stderr",
     "output_type": "stream",
     "text": [
      "[Parallel(n_jobs=-1)]: Using backend LokyBackend with 8 concurrent workers.\n",
      "[Parallel(n_jobs=-1)]: Done  25 tasks      | elapsed:    1.8s\n",
      "[Parallel(n_jobs=-1)]: Done 107 out of 107 | elapsed:    2.2s finished\n",
      "\n",
      "[2022-03-06 21:41:18] Features: 1/3 -- score: 0.8741666666666668[Parallel(n_jobs=-1)]: Using backend LokyBackend with 8 concurrent workers.\n",
      "[Parallel(n_jobs=-1)]: Done  34 tasks      | elapsed:    0.1s\n",
      "[Parallel(n_jobs=-1)]: Done 106 out of 106 | elapsed:    0.4s finished\n",
      "\n",
      "[2022-03-06 21:41:18] Features: 2/3 -- score: 0.8741666666666668[Parallel(n_jobs=-1)]: Using backend LokyBackend with 8 concurrent workers.\n",
      "[Parallel(n_jobs=-1)]: Done  34 tasks      | elapsed:    0.1s\n",
      "[Parallel(n_jobs=-1)]: Done 105 out of 105 | elapsed:    0.4s finished\n",
      "\n",
      "[2022-03-06 21:41:18] Features: 3/3 -- score: 0.8991666666666667"
     ]
    }
   ],
   "source": [
    "# selecting feature\n",
    "from mlxtend.feature_selection import SequentialFeatureSelector as SFS\n",
    "\n",
    "sfs1 = SFS(model,\n",
    "          k_features = 3,\n",
    "          forward=True,\n",
    "          floating=False,\n",
    "          verbose=2,\n",
    "          scoring='accuracy',\n",
    "          n_jobs=-1,\n",
    "          cv=10)\n",
    "sfs1 = sfs1.fit(X_train_std, y_train)"
   ]
  },
  {
   "cell_type": "code",
   "execution_count": 10,
   "id": "1d33a883",
   "metadata": {},
   "outputs": [
    {
     "data": {
      "text/plain": [
       "{1: {'feature_idx': (6,),\n",
       "  'cv_scores': array([0.8125    , 0.875     , 0.875     , 0.9375    , 0.875     ,\n",
       "         0.875     , 0.9375    , 0.8125    , 0.875     , 0.86666667]),\n",
       "  'avg_score': 0.8741666666666668,\n",
       "  'feature_names': ('6',)},\n",
       " 2: {'feature_idx': (6, 50),\n",
       "  'cv_scores': array([0.8125    , 0.875     , 0.9375    , 0.875     , 0.9375    ,\n",
       "         0.875     , 0.875     , 0.875     , 0.8125    , 0.86666667]),\n",
       "  'avg_score': 0.8741666666666668,\n",
       "  'feature_names': ('6', '50')},\n",
       " 3: {'feature_idx': (6, 50, 96),\n",
       "  'cv_scores': array([0.875     , 0.9375    , 0.875     , 1.        , 0.9375    ,\n",
       "         0.8125    , 0.875     , 0.875     , 0.9375    , 0.86666667]),\n",
       "  'avg_score': 0.8991666666666667,\n",
       "  'feature_names': ('6', '50', '96')}}"
      ]
     },
     "execution_count": 10,
     "metadata": {},
     "output_type": "execute_result"
    }
   ],
   "source": [
    "sfs1.subsets_"
   ]
  },
  {
   "cell_type": "code",
   "execution_count": 11,
   "id": "033d9743",
   "metadata": {},
   "outputs": [
    {
     "data": {
      "text/plain": [
       "(6, 50, 96)"
      ]
     },
     "execution_count": 11,
     "metadata": {},
     "output_type": "execute_result"
    }
   ],
   "source": [
    "sfs1.k_feature_idx_"
   ]
  },
  {
   "cell_type": "code",
   "execution_count": 12,
   "id": "5da41f6c",
   "metadata": {
    "scrolled": true
   },
   "outputs": [
    {
     "data": {
      "text/plain": [
       "Index(['MAFF', 'NEK2', 'RAD51'], dtype='object')"
      ]
     },
     "execution_count": 12,
     "metadata": {},
     "output_type": "execute_result"
    }
   ],
   "source": [
    "degs_gene_data.columns[1:][list(sfs1.k_feature_idx_)]"
   ]
  },
  {
   "cell_type": "code",
   "execution_count": 13,
   "id": "7158fda0",
   "metadata": {},
   "outputs": [],
   "source": [
    "X_train_sele = sfs1.transform(X_train)\n",
    "X_test_sele = sfs1.transform(X_test)\n"
   ]
  },
  {
   "cell_type": "code",
   "execution_count": 14,
   "id": "9d1c61b6",
   "metadata": {},
   "outputs": [
    {
     "name": "stdout",
     "output_type": "stream",
     "text": [
      "Training accuracy: 89.30817610062893\n",
      "Test accuracy: 85.0\n"
     ]
    }
   ],
   "source": [
    "# fit selection data to model\n",
    "model.fit(X_train_sele, y_train)\n",
    "print('Training accuracy:', np.mean(model.predict(X_train_sele) == y_train)*100)\n",
    "print('Test accuracy:', np.mean(model.predict(X_test_sele) == y_test)*100)"
   ]
  },
  {
   "cell_type": "code",
   "execution_count": 15,
   "id": "c1e28e35",
   "metadata": {},
   "outputs": [
    {
     "data": {
      "text/plain": [
       "{1: {'feature_idx': (6,),\n",
       "  'cv_scores': array([0.8125    , 0.875     , 0.875     , 0.9375    , 0.875     ,\n",
       "         0.875     , 0.9375    , 0.8125    , 0.875     , 0.86666667]),\n",
       "  'avg_score': 0.8741666666666668,\n",
       "  'feature_names': ('6',)},\n",
       " 2: {'feature_idx': (6, 50),\n",
       "  'cv_scores': array([0.8125    , 0.875     , 0.9375    , 0.875     , 0.9375    ,\n",
       "         0.875     , 0.875     , 0.875     , 0.8125    , 0.86666667]),\n",
       "  'avg_score': 0.8741666666666668,\n",
       "  'feature_names': ('6', '50')},\n",
       " 3: {'feature_idx': (6, 50, 96),\n",
       "  'cv_scores': array([0.875     , 0.9375    , 0.875     , 1.        , 0.9375    ,\n",
       "         0.8125    , 0.875     , 0.875     , 0.9375    , 0.86666667]),\n",
       "  'avg_score': 0.8991666666666667,\n",
       "  'feature_names': ('6', '50', '96')}}"
      ]
     },
     "execution_count": 15,
     "metadata": {},
     "output_type": "execute_result"
    }
   ],
   "source": [
    "# Inspect result\n",
    "sfs1.subsets_"
   ]
  },
  {
   "cell_type": "code",
   "execution_count": 4,
   "id": "01619295",
   "metadata": {},
   "outputs": [
    {
     "ename": "NameError",
     "evalue": "name 'sfs1' is not defined",
     "output_type": "error",
     "traceback": [
      "\u001b[1;31m---------------------------------------------------------------------------\u001b[0m",
      "\u001b[1;31mNameError\u001b[0m                                 Traceback (most recent call last)",
      "\u001b[1;32m<ipython-input-4-65e7fce65a0e>\u001b[0m in \u001b[0;36m<module>\u001b[1;34m\u001b[0m\n\u001b[1;32m----> 1\u001b[1;33m \u001b[0mmetric_dict\u001b[0m \u001b[1;33m=\u001b[0m \u001b[0msfs1\u001b[0m\u001b[1;33m.\u001b[0m\u001b[0mget_metric_dict\u001b[0m\u001b[1;33m(\u001b[0m\u001b[0mconfidence_interval\u001b[0m\u001b[1;33m=\u001b[0m\u001b[1;36m0.95\u001b[0m\u001b[1;33m)\u001b[0m\u001b[1;33m\u001b[0m\u001b[1;33m\u001b[0m\u001b[0m\n\u001b[0m\u001b[0;32m      2\u001b[0m \u001b[0mmetric_dict\u001b[0m\u001b[1;33m\u001b[0m\u001b[1;33m\u001b[0m\u001b[0m\n",
      "\u001b[1;31mNameError\u001b[0m: name 'sfs1' is not defined"
     ]
    }
   ],
   "source": [
    "metric_dict = sfs1.get_metric_dict(confidence_interval=0.95)\n",
    "metric_dict"
   ]
  },
  {
   "cell_type": "code",
   "execution_count": 3,
   "id": "15f35710",
   "metadata": {},
   "outputs": [
    {
     "ename": "NameError",
     "evalue": "name 'metric_dict' is not defined",
     "output_type": "error",
     "traceback": [
      "\u001b[1;31m---------------------------------------------------------------------------\u001b[0m",
      "\u001b[1;31mNameError\u001b[0m                                 Traceback (most recent call last)",
      "\u001b[1;32m<ipython-input-3-3d0b8c69dc92>\u001b[0m in \u001b[0;36m<module>\u001b[1;34m\u001b[0m\n\u001b[1;32m----> 1\u001b[1;33m \u001b[0mdf\u001b[0m \u001b[1;33m=\u001b[0m \u001b[0mpd\u001b[0m\u001b[1;33m.\u001b[0m\u001b[0mDataFrame\u001b[0m\u001b[1;33m.\u001b[0m\u001b[0mfrom_dict\u001b[0m\u001b[1;33m(\u001b[0m\u001b[0mmetric_dict\u001b[0m\u001b[1;33m)\u001b[0m\u001b[1;33m.\u001b[0m\u001b[0mT\u001b[0m\u001b[1;33m\u001b[0m\u001b[1;33m\u001b[0m\u001b[0m\n\u001b[0m\u001b[0;32m      2\u001b[0m \u001b[0mdf\u001b[0m\u001b[1;33m.\u001b[0m\u001b[0miloc\u001b[0m\u001b[1;33m[\u001b[0m\u001b[1;33m:\u001b[0m\u001b[1;33m,\u001b[0m\u001b[1;34m\"cv_scores\"\u001b[0m\u001b[1;33m]\u001b[0m\u001b[1;33m\u001b[0m\u001b[1;33m\u001b[0m\u001b[0m\n",
      "\u001b[1;31mNameError\u001b[0m: name 'metric_dict' is not defined"
     ]
    }
   ],
   "source": [
    "df = pd.DataFrame.from_dict(metric_dict).T\n",
    "df.iloc[,[1]]"
   ]
  },
  {
   "cell_type": "code",
   "execution_count": 18,
   "id": "007eae2e",
   "metadata": {},
   "outputs": [
    {
     "data": {
      "image/png": "[encoded data removed]",
      "text/plain": [
       "<Figure size 432x288 with 1 Axes>"
      ]
     },
     "metadata": {
      "needs_background": "light"
     },
     "output_type": "display_data"
    }
   ],
   "source": [
    "from mlxtend.plotting import plot_sequential_feature_selection as plot_sfs\n",
    "fig1 = plot_sfs(metric_dict, kind='std_dev')\n",
    "plt.title('sequentail forward selection (w.stdDev)')\n",
    "plt.grid()\n",
    "plt.show()"
   ]
  },
  {
   "cell_type": "code",
   "execution_count": 193,
   "id": "6321a472",
   "metadata": {},
   "outputs": [
    {
     "data": {
      "text/plain": [
       "162259276829213363391578010288127"
      ]
     },
     "execution_count": 193,
     "metadata": {},
     "output_type": "execute_result"
    }
   ],
   "source": [
    "from mlxtend.math import num_combinations\n",
    "\n",
    "all_comb = np.sum([num_combinations(n=X.shape[1], k=i)\n",
    "                  for i in range(1, X.shape[1] + 1)])\n",
    "all_comb\n"
   ]
  },
  {
   "cell_type": "code",
   "execution_count": null,
   "id": "6b0d71e3",
   "metadata": {},
   "outputs": [],
   "source": []
  }
 ],
 "metadata": {
  "kernelspec": {
   "display_name": "Python 3",
   "language": "python",
   "name": "python3"
  },
  "language_info": {
   "codemirror_mode": {
    "name": "ipython",
    "version": 3
   },
   "file_extension": ".py",
   "mimetype": "text/x-python",
   "name": "python",
   "nbconvert_exporter": "python",
   "pygments_lexer": "ipython3",
   "version": "3.8.8"
  }
 },
 "nbformat": 4,
 "nbformat_minor": 5
}
