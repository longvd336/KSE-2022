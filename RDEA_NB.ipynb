{
 "cells": [
  {
   "cell_type": "markdown",
   "metadata": {},
   "source": [
    "# Using RDEA to identify marker genes for mortality in Neuroblastoma"
   ]
  },
  {
   "cell_type": "code",
   "execution_count": 1,
   "metadata": {},
   "outputs": [],
   "source": [
    "import numpy as np\n",
    "import pandas as pd\n",
    "from scipy import stats\n",
    "\n",
    "from sklearn.ensemble import RandomForestClassifier\n",
    "from sklearn.linear_model import SGDClassifier\n",
    "from xgboost.sklearn import XGBClassifier\n",
    "from sklearn.feature_selection import f_classif, chi2, mutual_info_classif\n",
    "from sklearn.preprocessing import MinMaxScaler\n",
    "\n",
    "from rdea.eval.cross_validation import do_cross_validation, do_cross_validation_with_feature_selection\n",
    "from rdea.filters.embedded import EmbeddedFilter\n",
    "from rdea.filters.mrmr import MRMRP\n",
    "from rdea.utils.help_functions import model_based_relevance, auc_relevance, load_DEGs\n",
    "\n",
    "\n",
    "import matplotlib.pyplot as plt\n",
    "%matplotlib inline   \n",
    "import seaborn as sns\n",
    "import warnings\n",
    "\n",
    "# Comment these lines if you are not using Mac OS\n",
    "import matplotlib as mpl\n",
    "# mpl.use('MacOSX')\n",
    "import os\n",
    "os.environ['KMP_DUPLICATE_LIB_OK']='True'\n",
    "\n",
    "# Set random seed\n",
    "seed = 7\n",
    "np.random.seed(seed)"
   ]
  },
  {
   "cell_type": "markdown",
   "metadata": {},
   "source": [
    "## Datasets\n",
    "The Neuroblastoma (NB) dataset includes RNA-Seq raw data for 498 NB patients collected from the GEO2 (series GSE49711).  The RNA-Seq reads were processed using the TopHat-UCSC (TUC) pipeline. Data were normalized and log2 transformed and then aggregated at the gene level. "
   ]
  },
  {
   "cell_type": "markdown",
   "metadata": {},
   "source": [
    "## Inputs and parameters"
   ]
  },
  {
   "cell_type": "code",
   "execution_count": 2,
   "metadata": {},
   "outputs": [],
   "source": [
    "# ========== INPUTS ==========\n",
    "\n",
    "# in and out files\n",
    "data_file = './data/GSE49711_Train.csv'\n",
    "degs_file = './data/GSE49711_Train_DEGs.txt'   # If None, all genes will be considered.\n",
    "out_file = './results/NB/fs_scores.csv'\n",
    "is_save_results = True\n",
    "\n",
    "# data pre-processing\n",
    "is_normalize_samples = False\n",
    "is_normalize_columns = True\n",
    "norm_filter = MinMaxScaler()\n",
    "\n",
    "# experiment\n",
    "num_folds = 10\n",
    "num_runs = 10\n",
    "label = 'Died'\n",
    "\n",
    "# feature selection\n",
    "num_features = 7\n",
    "fsm = MRMRP(relevance_func= auc_relevance, redundancy_func=stats.pearsonr, num_features=num_features)\n",
    "\n",
    "# classifier\n",
    "model = SGDClassifier(loss=\"log\", penalty=\"l2\", random_state=seed)\n",
    "\n",
    "# ========== OTHER INPUTS ==========\n",
    "top_markers_to_viz = 10     # set to zero to visualize all potential markers"
   ]
  },
  {
   "cell_type": "markdown",
   "metadata": {},
   "source": [
    "<hr>\n",
    "<b>Do not modify the code below this line.</b><br>\n",
    "<hr>"
   ]
  },
  {
   "cell_type": "code",
   "execution_count": 3,
   "metadata": {},
   "outputs": [
    {
     "name": "stdout",
     "output_type": "stream",
     "text": [
      "194 DEGs loaded!\n"
     ]
    }
   ],
   "source": [
    "# load DEGs if provided\n",
    "if degs_file is not None:\n",
    "    DEGs = load_DEGs(degs_file)\n",
    "    print('{} DEGs loaded!'.format(len(DEGs)))\n",
    "else:\n",
    "    print('No DEGs provided. Pipeline will consider all genes.')"
   ]
  },
  {
   "cell_type": "code",
   "execution_count": 4,
   "metadata": {},
   "outputs": [
    {
     "name": "stdout",
     "output_type": "stream",
     "text": [
      "Shape of ./data/GSE49711_Train.csv is (249, 11575)\n",
      "Genes Normalized..\n"
     ]
    }
   ],
   "source": [
    "# Load data and normalize (if needed)\n",
    "df = pd.read_csv(data_file)\n",
    "print('Shape of {0} is {1}'.format(data_file, df.shape))\n",
    "y = df[label]\n",
    "if degs_file is not None:\n",
    "    df = df[DEGs]\n",
    "else:\n",
    "    df =df.drop([label],axis=1)\n",
    "names = df.columns\n",
    "X = df.values\n",
    "\n",
    "# Normalize per sample?\n",
    "if is_normalize_samples:\n",
    "    X = norm_filter.fit_transform(X.T, y).T\n",
    "    print('Samples Normalized..')\n",
    "# Normalize per sample\n",
    "elif is_normalize_columns:\n",
    "    X = norm_filter.fit_transform(X, y)\n",
    "    print('Genes Normalized..')\n",
    "else:\n",
    "    print('No normalization used..')"
   ]
  },
  {
   "cell_type": "code",
   "execution_count": 5,
   "metadata": {},
   "outputs": [
    {
     "name": "stdout",
     "output_type": "stream",
     "text": [
      "ACC\tSn\tSp\tMCC\tAUC\n",
      "[0.8215     0.492      0.90607895 0.41809611 0.85867368]\n"
     ]
    }
   ],
   "source": [
    "with warnings.catch_warnings():\n",
    "    warnings.simplefilter(\"ignore\")\n",
    "\n",
    "    res2, scores = do_cross_validation_with_feature_selection(X, y,model=model, num_folds=num_folds, \n",
    "                                                              fs_model=fsm, n_runs=num_runs)\n",
    "    print('ACC\\tSn\\tSp\\tMCC\\tAUC')\n",
    "    print(res2['metrics'])\n",
    "    #print(scores)\n",
    "\n",
    "\n",
    "    dict = {'feature': names, 'score': scores}\n",
    "    df = pd.DataFrame(dict, columns=['feature', 'score'],index=None)\n",
    "    "
   ]
  },
  {
   "cell_type": "code",
   "execution_count": 6,
   "metadata": {},
   "outputs": [
    {
     "data": {
      "image/png": "[encoded data removed]",
      "text/plain": [
       "<Figure size 1728x576 with 1 Axes>"
      ]
     },
     "metadata": {
      "needs_background": "light"
     },
     "output_type": "display_data"
    }
   ],
   "source": [
    "plt.figure(figsize=(24, 8))\n",
    "sns.set(style=\"whitegrid\")\n",
    "# Rotate x-labels\n",
    "#plt.xticks(rotation=-45)\n",
    "df = df[df['score']!=0]\n",
    "df = df.sort_values(by=['score'], ascending=False)\n",
    "if top_markers_to_viz != 0:\n",
    "    b = sns.barplot(data=df.head(top_markers_to_viz), x='score', y='feature',  orient='h') \n",
    "else:\n",
    "    b = sns.barplot(data=df, x='score', y='feature',  orient='h') \n",
    "\n",
    "b.set_xlabel(\"Score\",fontsize=20)\n",
    "b.set_ylabel(\"Marker Gene\",fontsize=20)\n",
    "b.tick_params(labelsize=14)"
   ]
  },
  {
   "cell_type": "code",
   "execution_count": 7,
   "metadata": {},
   "outputs": [
    {
     "name": "stdout",
     "output_type": "stream",
     "text": [
      "Output file, ./results/NB/fs_scores.csv, saved..\n"
     ]
    }
   ],
   "source": [
    "# Save the list of sorted genes with non-zero importance scores\n",
    "if is_save_results:\n",
    "    df.to_csv(out_file, index=False)\n",
    "    print('Output file, {}, saved..'.format(out_file))"
   ]
  },
  {
   "cell_type": "code",
   "execution_count": 8,
   "metadata": {},
   "outputs": [],
   "source": [
    "if top_markers_to_viz != 0:\n",
    "    df.head(top_markers_to_viz)\n",
    "else:\n",
    "    with pd.option_context('display.max_rows', None, 'display.max_columns', None):  \n",
    "        print(df)"
   ]
  },
  {
   "cell_type": "code",
   "execution_count": 9,
   "metadata": {},
   "outputs": [
    {
     "name": "stdout",
     "output_type": "stream",
     "text": [
      "Our analysis reduced the number of potential biomarkers from 194 to 33 genes and associated an importance score with each gene.\n",
      "Now, the user can use the importance scores to decide on the set of makers or can use the performance of a classifier evaluated using top genes to decied on the optimal number of marker genes (See xxxx for more details).\n"
     ]
    }
   ],
   "source": [
    "print('Our analysis reduced the number of potential biomarkers from {0} to {1} genes and associated an importance score with each gene.'.format(len(DEGs), df.shape[0]))\n",
    "print('Now, the user can use the importance scores to decide on the set of makers or can use the performance of a classifier'+\\\n",
    "     ' evaluated using top genes to decied on the optimal number of marker genes (See xxxx for more details).')"
   ]
  },
  {
   "cell_type": "code",
   "execution_count": null,
   "metadata": {},
   "outputs": [],
   "source": []
  }
 ],
 "metadata": {
  "kernelspec": {
   "display_name": "Python 3",
   "language": "python",
   "name": "python3"
  },
  "language_info": {
   "codemirror_mode": {
    "name": "ipython",
    "version": 3
   },
   "file_extension": ".py",
   "mimetype": "text/x-python",
   "name": "python",
   "nbconvert_exporter": "python",
   "pygments_lexer": "ipython3",
   "version": "3.8.8"
  }
 },
 "nbformat": 4,
 "nbformat_minor": 2
}
