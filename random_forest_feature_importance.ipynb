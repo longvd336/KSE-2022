{
 "cells": [
  {
   "cell_type": "code",
   "execution_count": 1,
   "id": "fa8174a9",
   "metadata": {},
   "outputs": [],
   "source": [
    "import numpy as np\n",
    "import pandas as pd\n",
    "import matplotlib.pyplot as plt\n",
    "%matplotlib inline   \n",
    "import seaborn as sns\n",
    "import warnings\n",
    "import matplotlib as mpl\n",
    "\n",
    "from sklearn.ensemble import RandomForestRegressor\n",
    "from sklearn.model_selection import train_test_split\n",
    "from sklearn.preprocessing import StandardScaler\n",
    "from scipy import stats\n",
    "from sklearn import preprocessing \n",
    "from sklearn.preprocessing import MinMaxScaler\n",
    "from sklearn.pipeline import make_pipeline\n",
    "from skrebate import ReliefF\n",
    "from sklearn.decomposition import PCA\n",
    "from sklearn.ensemble import RandomForestClassifier\n",
    "from sklearn.model_selection import cross_val_score"
   ]
  },
  {
   "cell_type": "code",
   "execution_count": 2,
   "id": "e0c9a1a6",
   "metadata": {
    "scrolled": true
   },
   "outputs": [
    {
     "name": "stderr",
     "output_type": "stream",
     "text": [
      "<ipython-input-2-cc550c6d2cf5>:14: SettingWithCopyWarning: \n",
      "A value is trying to be set on a copy of a slice from a DataFrame.\n",
      "Try using .loc[row_indexer,col_indexer] = value instead\n",
      "\n",
      "See the caveats in the documentation: https://pandas.pydata.org/pandas-docs/stable/user_guide/indexing.html#returning-a-view-versus-a-copy\n",
      "  degs_gene_data[\"label\"]  = data[label]\n"
     ]
    },
    {
     "data": {
      "text/html": [
       "<div>\n",
       "<style scoped>\n",
       "    .dataframe tbody tr th:only-of-type {\n",
       "        vertical-align: middle;\n",
       "    }\n",
       "\n",
       "    .dataframe tbody tr th {\n",
       "        vertical-align: top;\n",
       "    }\n",
       "\n",
       "    .dataframe thead th {\n",
       "        text-align: right;\n",
       "    }\n",
       "</style>\n",
       "<table border=\"1\" class=\"dataframe\">\n",
       "  <thead>\n",
       "    <tr style=\"text-align: right;\">\n",
       "      <th></th>\n",
       "      <th>SLC39A8</th>\n",
       "      <th>RHAG</th>\n",
       "      <th>DDIT4</th>\n",
       "      <th>MPO</th>\n",
       "      <th>RRM2</th>\n",
       "      <th>CCL3</th>\n",
       "      <th>TGFBI</th>\n",
       "      <th>MAFF</th>\n",
       "      <th>TYMS</th>\n",
       "      <th>ENPP2</th>\n",
       "      <th>...</th>\n",
       "      <th>FEN1</th>\n",
       "      <th>AURKA</th>\n",
       "      <th>FRAT1</th>\n",
       "      <th>SNRPG</th>\n",
       "      <th>KIF2C</th>\n",
       "      <th>POLE2</th>\n",
       "      <th>UBE2C</th>\n",
       "      <th>AURKB</th>\n",
       "      <th>CENPF</th>\n",
       "      <th>label</th>\n",
       "    </tr>\n",
       "  </thead>\n",
       "  <tbody>\n",
       "    <tr>\n",
       "      <th>0</th>\n",
       "      <td>7.837760</td>\n",
       "      <td>4.112866</td>\n",
       "      <td>8.046405</td>\n",
       "      <td>2.324069</td>\n",
       "      <td>4.759059</td>\n",
       "      <td>3.140721</td>\n",
       "      <td>4.143039</td>\n",
       "      <td>8.578116</td>\n",
       "      <td>5.230842</td>\n",
       "      <td>3.862937</td>\n",
       "      <td>...</td>\n",
       "      <td>4.062130</td>\n",
       "      <td>3.009849</td>\n",
       "      <td>8.785775</td>\n",
       "      <td>9.787393</td>\n",
       "      <td>2.240854</td>\n",
       "      <td>2.622261</td>\n",
       "      <td>4.787508</td>\n",
       "      <td>3.002504</td>\n",
       "      <td>2.246339</td>\n",
       "      <td>1</td>\n",
       "    </tr>\n",
       "    <tr>\n",
       "      <th>1</th>\n",
       "      <td>7.751983</td>\n",
       "      <td>1.485795</td>\n",
       "      <td>8.971049</td>\n",
       "      <td>5.258546</td>\n",
       "      <td>7.684430</td>\n",
       "      <td>2.811141</td>\n",
       "      <td>4.977650</td>\n",
       "      <td>4.715507</td>\n",
       "      <td>7.567845</td>\n",
       "      <td>3.212268</td>\n",
       "      <td>...</td>\n",
       "      <td>4.651380</td>\n",
       "      <td>4.084429</td>\n",
       "      <td>8.823993</td>\n",
       "      <td>9.877403</td>\n",
       "      <td>3.083158</td>\n",
       "      <td>2.470562</td>\n",
       "      <td>5.049623</td>\n",
       "      <td>2.667229</td>\n",
       "      <td>3.301098</td>\n",
       "      <td>0</td>\n",
       "    </tr>\n",
       "    <tr>\n",
       "      <th>2</th>\n",
       "      <td>10.279053</td>\n",
       "      <td>1.925620</td>\n",
       "      <td>8.712714</td>\n",
       "      <td>1.856427</td>\n",
       "      <td>5.890788</td>\n",
       "      <td>5.947866</td>\n",
       "      <td>4.036440</td>\n",
       "      <td>9.109963</td>\n",
       "      <td>6.066830</td>\n",
       "      <td>3.086101</td>\n",
       "      <td>...</td>\n",
       "      <td>3.554817</td>\n",
       "      <td>2.921564</td>\n",
       "      <td>8.135534</td>\n",
       "      <td>10.673182</td>\n",
       "      <td>2.399208</td>\n",
       "      <td>2.270243</td>\n",
       "      <td>4.136699</td>\n",
       "      <td>3.181530</td>\n",
       "      <td>2.663032</td>\n",
       "      <td>1</td>\n",
       "    </tr>\n",
       "    <tr>\n",
       "      <th>3</th>\n",
       "      <td>9.601609</td>\n",
       "      <td>5.888388</td>\n",
       "      <td>8.527441</td>\n",
       "      <td>5.750055</td>\n",
       "      <td>8.206514</td>\n",
       "      <td>5.134266</td>\n",
       "      <td>4.616064</td>\n",
       "      <td>5.156271</td>\n",
       "      <td>8.057016</td>\n",
       "      <td>2.684719</td>\n",
       "      <td>...</td>\n",
       "      <td>5.330526</td>\n",
       "      <td>4.034944</td>\n",
       "      <td>7.884369</td>\n",
       "      <td>9.025149</td>\n",
       "      <td>3.205451</td>\n",
       "      <td>2.998327</td>\n",
       "      <td>5.846744</td>\n",
       "      <td>3.883344</td>\n",
       "      <td>3.662963</td>\n",
       "      <td>1</td>\n",
       "    </tr>\n",
       "    <tr>\n",
       "      <th>4</th>\n",
       "      <td>7.785195</td>\n",
       "      <td>4.846312</td>\n",
       "      <td>9.301229</td>\n",
       "      <td>8.695507</td>\n",
       "      <td>10.032503</td>\n",
       "      <td>6.555199</td>\n",
       "      <td>6.542890</td>\n",
       "      <td>8.041716</td>\n",
       "      <td>9.813448</td>\n",
       "      <td>7.125344</td>\n",
       "      <td>...</td>\n",
       "      <td>6.783366</td>\n",
       "      <td>6.314857</td>\n",
       "      <td>8.603358</td>\n",
       "      <td>10.328848</td>\n",
       "      <td>4.966912</td>\n",
       "      <td>4.004817</td>\n",
       "      <td>6.864789</td>\n",
       "      <td>5.244933</td>\n",
       "      <td>4.199692</td>\n",
       "      <td>1</td>\n",
       "    </tr>\n",
       "    <tr>\n",
       "      <th>...</th>\n",
       "      <td>...</td>\n",
       "      <td>...</td>\n",
       "      <td>...</td>\n",
       "      <td>...</td>\n",
       "      <td>...</td>\n",
       "      <td>...</td>\n",
       "      <td>...</td>\n",
       "      <td>...</td>\n",
       "      <td>...</td>\n",
       "      <td>...</td>\n",
       "      <td>...</td>\n",
       "      <td>...</td>\n",
       "      <td>...</td>\n",
       "      <td>...</td>\n",
       "      <td>...</td>\n",
       "      <td>...</td>\n",
       "      <td>...</td>\n",
       "      <td>...</td>\n",
       "      <td>...</td>\n",
       "      <td>...</td>\n",
       "      <td>...</td>\n",
       "    </tr>\n",
       "    <tr>\n",
       "      <th>194</th>\n",
       "      <td>7.181331</td>\n",
       "      <td>2.365467</td>\n",
       "      <td>8.184828</td>\n",
       "      <td>6.181315</td>\n",
       "      <td>7.871825</td>\n",
       "      <td>2.929050</td>\n",
       "      <td>7.998090</td>\n",
       "      <td>4.431776</td>\n",
       "      <td>7.034406</td>\n",
       "      <td>3.780909</td>\n",
       "      <td>...</td>\n",
       "      <td>4.477342</td>\n",
       "      <td>4.055716</td>\n",
       "      <td>8.839066</td>\n",
       "      <td>9.910092</td>\n",
       "      <td>2.871094</td>\n",
       "      <td>3.078237</td>\n",
       "      <td>3.940554</td>\n",
       "      <td>3.216972</td>\n",
       "      <td>3.462929</td>\n",
       "      <td>0</td>\n",
       "    </tr>\n",
       "    <tr>\n",
       "      <th>195</th>\n",
       "      <td>5.251613</td>\n",
       "      <td>2.714796</td>\n",
       "      <td>6.427088</td>\n",
       "      <td>3.523980</td>\n",
       "      <td>7.221401</td>\n",
       "      <td>2.154800</td>\n",
       "      <td>4.979873</td>\n",
       "      <td>7.541867</td>\n",
       "      <td>7.252205</td>\n",
       "      <td>2.629904</td>\n",
       "      <td>...</td>\n",
       "      <td>5.162441</td>\n",
       "      <td>3.987030</td>\n",
       "      <td>9.600255</td>\n",
       "      <td>6.991776</td>\n",
       "      <td>2.501947</td>\n",
       "      <td>2.859321</td>\n",
       "      <td>4.154692</td>\n",
       "      <td>3.430309</td>\n",
       "      <td>3.199781</td>\n",
       "      <td>0</td>\n",
       "    </tr>\n",
       "    <tr>\n",
       "      <th>196</th>\n",
       "      <td>5.905524</td>\n",
       "      <td>8.074482</td>\n",
       "      <td>6.259182</td>\n",
       "      <td>2.492298</td>\n",
       "      <td>5.146876</td>\n",
       "      <td>1.794615</td>\n",
       "      <td>8.446067</td>\n",
       "      <td>8.769124</td>\n",
       "      <td>4.142922</td>\n",
       "      <td>2.246056</td>\n",
       "      <td>...</td>\n",
       "      <td>4.168839</td>\n",
       "      <td>4.630949</td>\n",
       "      <td>7.698138</td>\n",
       "      <td>9.373841</td>\n",
       "      <td>2.188718</td>\n",
       "      <td>2.145200</td>\n",
       "      <td>4.212061</td>\n",
       "      <td>2.516086</td>\n",
       "      <td>2.280285</td>\n",
       "      <td>0</td>\n",
       "    </tr>\n",
       "    <tr>\n",
       "      <th>197</th>\n",
       "      <td>4.786756</td>\n",
       "      <td>2.279402</td>\n",
       "      <td>5.955421</td>\n",
       "      <td>8.199064</td>\n",
       "      <td>8.008226</td>\n",
       "      <td>3.352024</td>\n",
       "      <td>9.477510</td>\n",
       "      <td>5.653967</td>\n",
       "      <td>7.454457</td>\n",
       "      <td>2.954322</td>\n",
       "      <td>...</td>\n",
       "      <td>4.676477</td>\n",
       "      <td>4.053300</td>\n",
       "      <td>8.976000</td>\n",
       "      <td>6.692781</td>\n",
       "      <td>2.799296</td>\n",
       "      <td>2.676570</td>\n",
       "      <td>4.434418</td>\n",
       "      <td>3.215429</td>\n",
       "      <td>3.070606</td>\n",
       "      <td>0</td>\n",
       "    </tr>\n",
       "    <tr>\n",
       "      <th>198</th>\n",
       "      <td>4.722408</td>\n",
       "      <td>1.882598</td>\n",
       "      <td>5.801993</td>\n",
       "      <td>1.993536</td>\n",
       "      <td>5.432369</td>\n",
       "      <td>2.500910</td>\n",
       "      <td>9.852480</td>\n",
       "      <td>3.562274</td>\n",
       "      <td>4.493001</td>\n",
       "      <td>2.635489</td>\n",
       "      <td>...</td>\n",
       "      <td>4.174478</td>\n",
       "      <td>3.425931</td>\n",
       "      <td>7.673721</td>\n",
       "      <td>6.055497</td>\n",
       "      <td>2.052296</td>\n",
       "      <td>2.003631</td>\n",
       "      <td>3.780489</td>\n",
       "      <td>3.033883</td>\n",
       "      <td>2.414788</td>\n",
       "      <td>0</td>\n",
       "    </tr>\n",
       "  </tbody>\n",
       "</table>\n",
       "<p>199 rows × 109 columns</p>\n",
       "</div>"
      ],
      "text/plain": [
       "       SLC39A8      RHAG     DDIT4       MPO       RRM2      CCL3     TGFBI  \\\n",
       "0     7.837760  4.112866  8.046405  2.324069   4.759059  3.140721  4.143039   \n",
       "1     7.751983  1.485795  8.971049  5.258546   7.684430  2.811141  4.977650   \n",
       "2    10.279053  1.925620  8.712714  1.856427   5.890788  5.947866  4.036440   \n",
       "3     9.601609  5.888388  8.527441  5.750055   8.206514  5.134266  4.616064   \n",
       "4     7.785195  4.846312  9.301229  8.695507  10.032503  6.555199  6.542890   \n",
       "..         ...       ...       ...       ...        ...       ...       ...   \n",
       "194   7.181331  2.365467  8.184828  6.181315   7.871825  2.929050  7.998090   \n",
       "195   5.251613  2.714796  6.427088  3.523980   7.221401  2.154800  4.979873   \n",
       "196   5.905524  8.074482  6.259182  2.492298   5.146876  1.794615  8.446067   \n",
       "197   4.786756  2.279402  5.955421  8.199064   8.008226  3.352024  9.477510   \n",
       "198   4.722408  1.882598  5.801993  1.993536   5.432369  2.500910  9.852480   \n",
       "\n",
       "         MAFF      TYMS     ENPP2  ...      FEN1     AURKA     FRAT1  \\\n",
       "0    8.578116  5.230842  3.862937  ...  4.062130  3.009849  8.785775   \n",
       "1    4.715507  7.567845  3.212268  ...  4.651380  4.084429  8.823993   \n",
       "2    9.109963  6.066830  3.086101  ...  3.554817  2.921564  8.135534   \n",
       "3    5.156271  8.057016  2.684719  ...  5.330526  4.034944  7.884369   \n",
       "4    8.041716  9.813448  7.125344  ...  6.783366  6.314857  8.603358   \n",
       "..        ...       ...       ...  ...       ...       ...       ...   \n",
       "194  4.431776  7.034406  3.780909  ...  4.477342  4.055716  8.839066   \n",
       "195  7.541867  7.252205  2.629904  ...  5.162441  3.987030  9.600255   \n",
       "196  8.769124  4.142922  2.246056  ...  4.168839  4.630949  7.698138   \n",
       "197  5.653967  7.454457  2.954322  ...  4.676477  4.053300  8.976000   \n",
       "198  3.562274  4.493001  2.635489  ...  4.174478  3.425931  7.673721   \n",
       "\n",
       "         SNRPG     KIF2C     POLE2     UBE2C     AURKB     CENPF  label  \n",
       "0     9.787393  2.240854  2.622261  4.787508  3.002504  2.246339      1  \n",
       "1     9.877403  3.083158  2.470562  5.049623  2.667229  3.301098      0  \n",
       "2    10.673182  2.399208  2.270243  4.136699  3.181530  2.663032      1  \n",
       "3     9.025149  3.205451  2.998327  5.846744  3.883344  3.662963      1  \n",
       "4    10.328848  4.966912  4.004817  6.864789  5.244933  4.199692      1  \n",
       "..         ...       ...       ...       ...       ...       ...    ...  \n",
       "194   9.910092  2.871094  3.078237  3.940554  3.216972  3.462929      0  \n",
       "195   6.991776  2.501947  2.859321  4.154692  3.430309  3.199781      0  \n",
       "196   9.373841  2.188718  2.145200  4.212061  2.516086  2.280285      0  \n",
       "197   6.692781  2.799296  2.676570  4.434418  3.215429  3.070606      0  \n",
       "198   6.055497  2.052296  2.003631  3.780489  3.033883  2.414788      0  \n",
       "\n",
       "[199 rows x 109 columns]"
      ]
     },
     "execution_count": 2,
     "metadata": {},
     "output_type": "execute_result"
    }
   ],
   "source": [
    "data_file = './data/GSE66099.csv'\n",
    "degs_file = './gene_diff_data.csv'\n",
    "# data pre-processing\n",
    "norm_filter = MinMaxScaler()\n",
    "\n",
    "label = 'Died'\n",
    "num_features = 10\n",
    "\n",
    "DEGs = pd.read_csv(degs_file)\n",
    "degs_gene_id = DEGs[\"X\"]\n",
    "\n",
    "data = pd.read_csv(data_file)\n",
    "degs_gene_data = data[degs_gene_id]\n",
    "degs_gene_data[\"label\"]  = data[label]\n",
    "degs_gene_data"
   ]
  },
  {
   "cell_type": "code",
   "execution_count": 3,
   "id": "13524671",
   "metadata": {},
   "outputs": [
    {
     "data": {
      "text/plain": [
       "<BarContainer object of 159 artists>"
      ]
     },
     "execution_count": 3,
     "metadata": {},
     "output_type": "execute_result"
    },
    {
     "data": {
      "image/png": "[encoded data removed]",
      "text/plain": [
       "<Figure size 432x288 with 1 Axes>"
      ]
     },
     "metadata": {
      "needs_background": "light"
     },
     "output_type": "display_data"
    }
   ],
   "source": [
    "# train_test_split\n",
    "from sklearn.model_selection import train_test_split\n",
    "from sklearn.preprocessing import StandardScaler\n",
    "from sklearn.preprocessing import MinMaxScaler\n",
    "\n",
    "# y = degs_gene_data.iloc[:,108].values\n",
    "X, y = degs_gene_data.iloc[:,0:108].values, degs_gene_data.iloc[:,108].values\n",
    "X_train, X_test, y_train, y_test = train_test_split(X, y, test_size = 0.1, random_state=11233,\n",
    "                                                   shuffle=True)\n",
    "X_train[:,0]\n",
    "plt.bar(list(range(159)),X_train[0:159,0])"
   ]
  },
  {
   "cell_type": "code",
   "execution_count": 4,
   "id": "98cfd8b4",
   "metadata": {},
   "outputs": [],
   "source": [
    "#feature normalization\n",
    "mm = MinMaxScaler()\n",
    "X_train_mm = mm.fit_transform(X_train,y_train)\n",
    "X_test_mm = mm.transform(X_test)"
   ]
  },
  {
   "cell_type": "code",
   "execution_count": 5,
   "id": "c12b4a0c",
   "metadata": {},
   "outputs": [
    {
     "data": {
      "text/plain": [
       "<BarContainer object of 159 artists>"
      ]
     },
     "execution_count": 5,
     "metadata": {},
     "output_type": "execute_result"
    },
    {
     "data": {
      "image/png": "[encoded data removed]",
      "text/plain": [
       "<Figure size 432x288 with 1 Axes>"
      ]
     },
     "metadata": {
      "needs_background": "light"
     },
     "output_type": "display_data"
    }
   ],
   "source": [
    "plt.bar(list(range(159)),X_train_mm[0:159,0])"
   ]
  },
  {
   "cell_type": "code",
   "execution_count": 6,
   "id": "07637429",
   "metadata": {},
   "outputs": [
    {
     "data": {
      "text/plain": [
       "<BarContainer object of 159 artists>"
      ]
     },
     "execution_count": 6,
     "metadata": {},
     "output_type": "execute_result"
    },
    {
     "data": {
      "image/png": "[encoded data removed]",
      "text/plain": [
       "<Figure size 432x288 with 1 Axes>"
      ]
     },
     "metadata": {
      "needs_background": "light"
     },
     "output_type": "display_data"
    }
   ],
   "source": [
    "#feature Standardize\n",
    "\n",
    "sc = StandardScaler()\n",
    "X_train_std = sc.fit_transform(X_train_mm)\n",
    "X_test_std = sc.transform(X_test_mm)\n",
    "\n",
    "plt.bar(list(range(159)),X_train_std[0:159,0])"
   ]
  },
  {
   "cell_type": "code",
   "execution_count": 7,
   "id": "a67c5ecc",
   "metadata": {},
   "outputs": [
    {
     "data": {
      "text/html": [
       "<div>\n",
       "<style scoped>\n",
       "    .dataframe tbody tr th:only-of-type {\n",
       "        vertical-align: middle;\n",
       "    }\n",
       "\n",
       "    .dataframe tbody tr th {\n",
       "        vertical-align: top;\n",
       "    }\n",
       "\n",
       "    .dataframe thead th {\n",
       "        text-align: right;\n",
       "    }\n",
       "</style>\n",
       "<table border=\"1\" class=\"dataframe\">\n",
       "  <thead>\n",
       "    <tr style=\"text-align: right;\">\n",
       "      <th></th>\n",
       "      <th>0</th>\n",
       "      <th>1</th>\n",
       "      <th>2</th>\n",
       "      <th>3</th>\n",
       "      <th>4</th>\n",
       "      <th>5</th>\n",
       "      <th>6</th>\n",
       "      <th>7</th>\n",
       "      <th>8</th>\n",
       "      <th>9</th>\n",
       "      <th>...</th>\n",
       "      <th>98</th>\n",
       "      <th>99</th>\n",
       "      <th>100</th>\n",
       "      <th>101</th>\n",
       "      <th>102</th>\n",
       "      <th>103</th>\n",
       "      <th>104</th>\n",
       "      <th>105</th>\n",
       "      <th>106</th>\n",
       "      <th>107</th>\n",
       "    </tr>\n",
       "  </thead>\n",
       "  <tbody>\n",
       "    <tr>\n",
       "      <th>0</th>\n",
       "      <td>-0.268152</td>\n",
       "      <td>2.199477</td>\n",
       "      <td>-0.469345</td>\n",
       "      <td>-0.519418</td>\n",
       "      <td>-0.639564</td>\n",
       "      <td>-0.093236</td>\n",
       "      <td>0.646176</td>\n",
       "      <td>0.574959</td>\n",
       "      <td>0.461570</td>\n",
       "      <td>-0.382930</td>\n",
       "      <td>...</td>\n",
       "      <td>0.413900</td>\n",
       "      <td>0.839078</td>\n",
       "      <td>0.170450</td>\n",
       "      <td>0.580271</td>\n",
       "      <td>-0.300732</td>\n",
       "      <td>-0.373646</td>\n",
       "      <td>-0.208364</td>\n",
       "      <td>-0.845698</td>\n",
       "      <td>0.297708</td>\n",
       "      <td>0.488540</td>\n",
       "    </tr>\n",
       "    <tr>\n",
       "      <th>1</th>\n",
       "      <td>-1.135890</td>\n",
       "      <td>-0.671192</td>\n",
       "      <td>-1.075932</td>\n",
       "      <td>2.023878</td>\n",
       "      <td>1.068459</td>\n",
       "      <td>-0.070710</td>\n",
       "      <td>1.116265</td>\n",
       "      <td>-0.250940</td>\n",
       "      <td>1.021901</td>\n",
       "      <td>-0.312861</td>\n",
       "      <td>...</td>\n",
       "      <td>1.222178</td>\n",
       "      <td>0.254671</td>\n",
       "      <td>0.401584</td>\n",
       "      <td>0.375830</td>\n",
       "      <td>-2.868868</td>\n",
       "      <td>0.396558</td>\n",
       "      <td>0.159676</td>\n",
       "      <td>0.077073</td>\n",
       "      <td>0.047965</td>\n",
       "      <td>0.310558</td>\n",
       "    </tr>\n",
       "    <tr>\n",
       "      <th>2</th>\n",
       "      <td>-0.947816</td>\n",
       "      <td>-0.633996</td>\n",
       "      <td>1.114931</td>\n",
       "      <td>1.277350</td>\n",
       "      <td>-0.357383</td>\n",
       "      <td>-0.838417</td>\n",
       "      <td>0.829910</td>\n",
       "      <td>-0.658398</td>\n",
       "      <td>-0.215958</td>\n",
       "      <td>-0.941362</td>\n",
       "      <td>...</td>\n",
       "      <td>0.726144</td>\n",
       "      <td>-0.220554</td>\n",
       "      <td>-0.546626</td>\n",
       "      <td>1.508017</td>\n",
       "      <td>-0.382378</td>\n",
       "      <td>-0.956297</td>\n",
       "      <td>-0.787569</td>\n",
       "      <td>-0.355417</td>\n",
       "      <td>-0.323088</td>\n",
       "      <td>-0.678774</td>\n",
       "    </tr>\n",
       "    <tr>\n",
       "      <th>3</th>\n",
       "      <td>-0.719565</td>\n",
       "      <td>0.362399</td>\n",
       "      <td>-2.143392</td>\n",
       "      <td>0.243827</td>\n",
       "      <td>-1.246846</td>\n",
       "      <td>-0.669688</td>\n",
       "      <td>0.868917</td>\n",
       "      <td>-1.691582</td>\n",
       "      <td>-1.062308</td>\n",
       "      <td>-0.672815</td>\n",
       "      <td>...</td>\n",
       "      <td>-0.807537</td>\n",
       "      <td>-0.944197</td>\n",
       "      <td>-0.512579</td>\n",
       "      <td>0.174172</td>\n",
       "      <td>-1.653939</td>\n",
       "      <td>-0.576164</td>\n",
       "      <td>-0.938074</td>\n",
       "      <td>-0.774869</td>\n",
       "      <td>0.097775</td>\n",
       "      <td>0.049314</td>\n",
       "    </tr>\n",
       "    <tr>\n",
       "      <th>4</th>\n",
       "      <td>1.068059</td>\n",
       "      <td>2.857002</td>\n",
       "      <td>-0.141297</td>\n",
       "      <td>-0.007207</td>\n",
       "      <td>0.514224</td>\n",
       "      <td>-0.233388</td>\n",
       "      <td>-1.170517</td>\n",
       "      <td>2.363126</td>\n",
       "      <td>0.424755</td>\n",
       "      <td>0.065673</td>\n",
       "      <td>...</td>\n",
       "      <td>-0.776554</td>\n",
       "      <td>-0.708907</td>\n",
       "      <td>-0.270533</td>\n",
       "      <td>-2.539420</td>\n",
       "      <td>0.074983</td>\n",
       "      <td>0.042159</td>\n",
       "      <td>0.345448</td>\n",
       "      <td>-0.625733</td>\n",
       "      <td>1.617765</td>\n",
       "      <td>0.283582</td>\n",
       "    </tr>\n",
       "    <tr>\n",
       "      <th>...</th>\n",
       "      <td>...</td>\n",
       "      <td>...</td>\n",
       "      <td>...</td>\n",
       "      <td>...</td>\n",
       "      <td>...</td>\n",
       "      <td>...</td>\n",
       "      <td>...</td>\n",
       "      <td>...</td>\n",
       "      <td>...</td>\n",
       "      <td>...</td>\n",
       "      <td>...</td>\n",
       "      <td>...</td>\n",
       "      <td>...</td>\n",
       "      <td>...</td>\n",
       "      <td>...</td>\n",
       "      <td>...</td>\n",
       "      <td>...</td>\n",
       "      <td>...</td>\n",
       "      <td>...</td>\n",
       "      <td>...</td>\n",
       "      <td>...</td>\n",
       "    </tr>\n",
       "    <tr>\n",
       "      <th>174</th>\n",
       "      <td>0.361567</td>\n",
       "      <td>-0.645124</td>\n",
       "      <td>-0.654710</td>\n",
       "      <td>-0.327197</td>\n",
       "      <td>1.250828</td>\n",
       "      <td>2.029113</td>\n",
       "      <td>0.562801</td>\n",
       "      <td>-0.549707</td>\n",
       "      <td>-0.174255</td>\n",
       "      <td>0.258389</td>\n",
       "      <td>...</td>\n",
       "      <td>0.268005</td>\n",
       "      <td>0.103496</td>\n",
       "      <td>0.141459</td>\n",
       "      <td>0.490462</td>\n",
       "      <td>-1.056953</td>\n",
       "      <td>-0.008787</td>\n",
       "      <td>3.642942</td>\n",
       "      <td>0.310418</td>\n",
       "      <td>-0.225867</td>\n",
       "      <td>-0.296367</td>\n",
       "    </tr>\n",
       "    <tr>\n",
       "      <th>175</th>\n",
       "      <td>0.529201</td>\n",
       "      <td>0.061137</td>\n",
       "      <td>0.417405</td>\n",
       "      <td>2.317727</td>\n",
       "      <td>1.173404</td>\n",
       "      <td>-0.541501</td>\n",
       "      <td>-1.172028</td>\n",
       "      <td>-0.571739</td>\n",
       "      <td>0.830116</td>\n",
       "      <td>-0.735402</td>\n",
       "      <td>...</td>\n",
       "      <td>-1.019290</td>\n",
       "      <td>0.175262</td>\n",
       "      <td>0.369226</td>\n",
       "      <td>-0.083100</td>\n",
       "      <td>0.886209</td>\n",
       "      <td>0.593855</td>\n",
       "      <td>1.024975</td>\n",
       "      <td>0.180370</td>\n",
       "      <td>0.234082</td>\n",
       "      <td>0.577765</td>\n",
       "    </tr>\n",
       "    <tr>\n",
       "      <th>176</th>\n",
       "      <td>1.224751</td>\n",
       "      <td>1.126371</td>\n",
       "      <td>-0.536873</td>\n",
       "      <td>-0.752321</td>\n",
       "      <td>0.540500</td>\n",
       "      <td>0.222315</td>\n",
       "      <td>-1.120615</td>\n",
       "      <td>0.766014</td>\n",
       "      <td>0.318224</td>\n",
       "      <td>2.213651</td>\n",
       "      <td>...</td>\n",
       "      <td>-0.287035</td>\n",
       "      <td>0.550053</td>\n",
       "      <td>-0.092422</td>\n",
       "      <td>-2.199518</td>\n",
       "      <td>-0.731100</td>\n",
       "      <td>-0.288842</td>\n",
       "      <td>-0.144438</td>\n",
       "      <td>0.266959</td>\n",
       "      <td>0.147433</td>\n",
       "      <td>-0.092073</td>\n",
       "    </tr>\n",
       "    <tr>\n",
       "      <th>177</th>\n",
       "      <td>-0.410507</td>\n",
       "      <td>-0.168118</td>\n",
       "      <td>-0.534676</td>\n",
       "      <td>2.684364</td>\n",
       "      <td>0.719797</td>\n",
       "      <td>-0.263984</td>\n",
       "      <td>-1.313719</td>\n",
       "      <td>-0.639316</td>\n",
       "      <td>0.000469</td>\n",
       "      <td>-0.791953</td>\n",
       "      <td>...</td>\n",
       "      <td>-0.503620</td>\n",
       "      <td>-0.839584</td>\n",
       "      <td>-0.142045</td>\n",
       "      <td>-0.206169</td>\n",
       "      <td>0.791205</td>\n",
       "      <td>-0.365001</td>\n",
       "      <td>-0.043300</td>\n",
       "      <td>0.161494</td>\n",
       "      <td>-0.747907</td>\n",
       "      <td>-0.300283</td>\n",
       "    </tr>\n",
       "    <tr>\n",
       "      <th>178</th>\n",
       "      <td>1.321374</td>\n",
       "      <td>2.168014</td>\n",
       "      <td>0.881912</td>\n",
       "      <td>1.782281</td>\n",
       "      <td>1.193666</td>\n",
       "      <td>-0.674551</td>\n",
       "      <td>-0.816747</td>\n",
       "      <td>0.606019</td>\n",
       "      <td>0.790781</td>\n",
       "      <td>-0.511469</td>\n",
       "      <td>...</td>\n",
       "      <td>0.063569</td>\n",
       "      <td>1.569401</td>\n",
       "      <td>1.030925</td>\n",
       "      <td>-1.645423</td>\n",
       "      <td>0.738257</td>\n",
       "      <td>-0.118980</td>\n",
       "      <td>0.883837</td>\n",
       "      <td>0.520987</td>\n",
       "      <td>0.572519</td>\n",
       "      <td>1.119948</td>\n",
       "    </tr>\n",
       "  </tbody>\n",
       "</table>\n",
       "<p>179 rows × 108 columns</p>\n",
       "</div>"
      ],
      "text/plain": [
       "          0         1         2         3         4         5         6    \\\n",
       "0   -0.268152  2.199477 -0.469345 -0.519418 -0.639564 -0.093236  0.646176   \n",
       "1   -1.135890 -0.671192 -1.075932  2.023878  1.068459 -0.070710  1.116265   \n",
       "2   -0.947816 -0.633996  1.114931  1.277350 -0.357383 -0.838417  0.829910   \n",
       "3   -0.719565  0.362399 -2.143392  0.243827 -1.246846 -0.669688  0.868917   \n",
       "4    1.068059  2.857002 -0.141297 -0.007207  0.514224 -0.233388 -1.170517   \n",
       "..        ...       ...       ...       ...       ...       ...       ...   \n",
       "174  0.361567 -0.645124 -0.654710 -0.327197  1.250828  2.029113  0.562801   \n",
       "175  0.529201  0.061137  0.417405  2.317727  1.173404 -0.541501 -1.172028   \n",
       "176  1.224751  1.126371 -0.536873 -0.752321  0.540500  0.222315 -1.120615   \n",
       "177 -0.410507 -0.168118 -0.534676  2.684364  0.719797 -0.263984 -1.313719   \n",
       "178  1.321374  2.168014  0.881912  1.782281  1.193666 -0.674551 -0.816747   \n",
       "\n",
       "          7         8         9    ...       98        99        100  \\\n",
       "0    0.574959  0.461570 -0.382930  ...  0.413900  0.839078  0.170450   \n",
       "1   -0.250940  1.021901 -0.312861  ...  1.222178  0.254671  0.401584   \n",
       "2   -0.658398 -0.215958 -0.941362  ...  0.726144 -0.220554 -0.546626   \n",
       "3   -1.691582 -1.062308 -0.672815  ... -0.807537 -0.944197 -0.512579   \n",
       "4    2.363126  0.424755  0.065673  ... -0.776554 -0.708907 -0.270533   \n",
       "..        ...       ...       ...  ...       ...       ...       ...   \n",
       "174 -0.549707 -0.174255  0.258389  ...  0.268005  0.103496  0.141459   \n",
       "175 -0.571739  0.830116 -0.735402  ... -1.019290  0.175262  0.369226   \n",
       "176  0.766014  0.318224  2.213651  ... -0.287035  0.550053 -0.092422   \n",
       "177 -0.639316  0.000469 -0.791953  ... -0.503620 -0.839584 -0.142045   \n",
       "178  0.606019  0.790781 -0.511469  ...  0.063569  1.569401  1.030925   \n",
       "\n",
       "          101       102       103       104       105       106       107  \n",
       "0    0.580271 -0.300732 -0.373646 -0.208364 -0.845698  0.297708  0.488540  \n",
       "1    0.375830 -2.868868  0.396558  0.159676  0.077073  0.047965  0.310558  \n",
       "2    1.508017 -0.382378 -0.956297 -0.787569 -0.355417 -0.323088 -0.678774  \n",
       "3    0.174172 -1.653939 -0.576164 -0.938074 -0.774869  0.097775  0.049314  \n",
       "4   -2.539420  0.074983  0.042159  0.345448 -0.625733  1.617765  0.283582  \n",
       "..        ...       ...       ...       ...       ...       ...       ...  \n",
       "174  0.490462 -1.056953 -0.008787  3.642942  0.310418 -0.225867 -0.296367  \n",
       "175 -0.083100  0.886209  0.593855  1.024975  0.180370  0.234082  0.577765  \n",
       "176 -2.199518 -0.731100 -0.288842 -0.144438  0.266959  0.147433 -0.092073  \n",
       "177 -0.206169  0.791205 -0.365001 -0.043300  0.161494 -0.747907 -0.300283  \n",
       "178 -1.645423  0.738257 -0.118980  0.883837  0.520987  0.572519  1.119948  \n",
       "\n",
       "[179 rows x 108 columns]"
      ]
     },
     "execution_count": 7,
     "metadata": {},
     "output_type": "execute_result"
    }
   ],
   "source": [
    "pd.DataFrame(X_train_std)"
   ]
  },
  {
   "cell_type": "code",
   "execution_count": 8,
   "id": "1a58d929",
   "metadata": {},
   "outputs": [
    {
     "name": "stdout",
     "output_type": "stream",
     "text": [
      "Training accuracy: 1.0\n",
      "non standardize: 0.95\n"
     ]
    }
   ],
   "source": [
    "from sklearn import metrics\n",
    "auc_list = []\n",
    "rf = RandomForestClassifier(n_estimators=50, random_state=0)\n",
    "rf.fit(X_train_mm, y_train)\n",
    "y_pred = rf.predict(X_test_std)\n",
    "fpr, tpr, _thresholds = metrics.roc_curve(y_test, y_pred)\n",
    "auc_list.append(round(metrics.auc(fpr, tpr),2))\n",
    "print('Training accuracy:', rf.score(X_train_mm, y_train))\n",
    "print(\"non standardize:\", rf.score(X_test_mm, y_test))"
   ]
  },
  {
   "cell_type": "code",
   "execution_count": 9,
   "id": "18bc5774",
   "metadata": {},
   "outputs": [
    {
     "name": "stderr",
     "output_type": "stream",
     "text": [
      "C:\\Users\\vuduc\\anaconda3\\lib\\site-packages\\sklearn\\utils\\deprecation.py:87: FutureWarning: Function plot_roc_curve is deprecated; Function :func:`plot_roc_curve` is deprecated in 1.0 and will be removed in 1.2. Use one of the class methods: :meth:`sklearn.metric.RocCurveDisplay.from_predictions` or :meth:`sklearn.metric.RocCurveDisplay.from_estimator`.\n",
      "  warnings.warn(msg, category=FutureWarning)\n"
     ]
    },
    {
     "data": {
      "text/plain": [
       "<sklearn.metrics._plot.roc_curve.RocCurveDisplay at 0x1c445e417c0>"
      ]
     },
     "execution_count": 9,
     "metadata": {},
     "output_type": "execute_result"
    },
    {
     "data": {
      "image/png": "[encoded data removed]",
      "text/plain": [
       "<Figure size 432x288 with 1 Axes>"
      ]
     },
     "metadata": {
      "needs_background": "light"
     },
     "output_type": "display_data"
    }
   ],
   "source": [
    "import matplotlib.pyplot as plt\n",
    "from sklearn import metrics\n",
    "metrics.plot_roc_curve(rf, X_test_mm, y_test) "
   ]
  },
  {
   "cell_type": "code",
   "execution_count": 10,
   "id": "7cb5d36c",
   "metadata": {},
   "outputs": [
    {
     "name": "stdout",
     "output_type": "stream",
     "text": [
      "Training accuracy: 1.0\n",
      "non standardize: 0.95\n"
     ]
    },
    {
     "name": "stderr",
     "output_type": "stream",
     "text": [
      "C:\\Users\\vuduc\\anaconda3\\lib\\site-packages\\sklearn\\utils\\deprecation.py:87: FutureWarning: Function plot_roc_curve is deprecated; Function :func:`plot_roc_curve` is deprecated in 1.0 and will be removed in 1.2. Use one of the class methods: :meth:`sklearn.metric.RocCurveDisplay.from_predictions` or :meth:`sklearn.metric.RocCurveDisplay.from_estimator`.\n",
      "  warnings.warn(msg, category=FutureWarning)\n"
     ]
    },
    {
     "data": {
      "text/plain": [
       "<sklearn.metrics._plot.roc_curve.RocCurveDisplay at 0x1c445f05d60>"
      ]
     },
     "execution_count": 10,
     "metadata": {},
     "output_type": "execute_result"
    },
    {
     "data": {
      "image/png": "[encoded data removed]",
      "text/plain": [
       "<Figure size 432x288 with 1 Axes>"
      ]
     },
     "metadata": {
      "needs_background": "light"
     },
     "output_type": "display_data"
    }
   ],
   "source": [
    "from sklearn import metrics\n",
    "rf2 = RandomForestClassifier(n_estimators=100, random_state=0)\n",
    "rf2.fit(X_train_mm, y_train)\n",
    "\n",
    "print('Training accuracy:', rf2.score(X_train_mm, y_train))\n",
    "print(\"non standardize:\", rf2.score(X_test_mm, y_test))\n",
    "metrics.plot_roc_curve(rf2, X_test_mm, y_test) "
   ]
  },
  {
   "cell_type": "code",
   "execution_count": 11,
   "id": "36467132",
   "metadata": {},
   "outputs": [
    {
     "name": "stdout",
     "output_type": "stream",
     "text": [
      "Training accuracy: 0.9329608938547486\n",
      "non standardize: 0.95\n"
     ]
    },
    {
     "name": "stderr",
     "output_type": "stream",
     "text": [
      "C:\\Users\\vuduc\\anaconda3\\lib\\site-packages\\sklearn\\utils\\deprecation.py:87: FutureWarning: Function plot_roc_curve is deprecated; Function :func:`plot_roc_curve` is deprecated in 1.0 and will be removed in 1.2. Use one of the class methods: :meth:`sklearn.metric.RocCurveDisplay.from_predictions` or :meth:`sklearn.metric.RocCurveDisplay.from_estimator`.\n",
      "  warnings.warn(msg, category=FutureWarning)\n"
     ]
    },
    {
     "data": {
      "text/plain": [
       "<sklearn.metrics._plot.roc_curve.RocCurveDisplay at 0x1c444cd97f0>"
      ]
     },
     "execution_count": 11,
     "metadata": {},
     "output_type": "execute_result"
    },
    {
     "data": {
      "image/png": "[encoded data removed]",
      "text/plain": [
       "<Figure size 432x288 with 1 Axes>"
      ]
     },
     "metadata": {
      "needs_background": "light"
     },
     "output_type": "display_data"
    }
   ],
   "source": [
    "# SVM\n",
    "from sklearn.svm import SVC\n",
    "clf = SVC(kernel='linear')\n",
    "clf.fit(X_train_mm, y_train)\n",
    "print('Training accuracy:', clf.score(X_train_mm, y_train))\n",
    "print(\"non standardize:\",clf.score(X_test_mm, y_test))\n",
    "metrics.plot_roc_curve(clf, X_test_mm, y_test) "
   ]
  },
  {
   "cell_type": "code",
   "execution_count": 12,
   "id": "26604ae8",
   "metadata": {},
   "outputs": [
    {
     "name": "stdout",
     "output_type": "stream",
     "text": [
      "Training accuracy: 0.9162011173184358\n",
      "non standardize: 0.9\n"
     ]
    },
    {
     "name": "stderr",
     "output_type": "stream",
     "text": [
      "C:\\Users\\vuduc\\anaconda3\\lib\\site-packages\\sklearn\\utils\\deprecation.py:87: FutureWarning: Function plot_roc_curve is deprecated; Function :func:`plot_roc_curve` is deprecated in 1.0 and will be removed in 1.2. Use one of the class methods: :meth:`sklearn.metric.RocCurveDisplay.from_predictions` or :meth:`sklearn.metric.RocCurveDisplay.from_estimator`.\n",
      "  warnings.warn(msg, category=FutureWarning)\n"
     ]
    },
    {
     "data": {
      "text/plain": [
       "<sklearn.metrics._plot.roc_curve.RocCurveDisplay at 0x1c445f7d520>"
      ]
     },
     "execution_count": 12,
     "metadata": {},
     "output_type": "execute_result"
    },
    {
     "data": {
      "image/png": "[encoded data removed]",
      "text/plain": [
       "<Figure size 432x288 with 1 Axes>"
      ]
     },
     "metadata": {
      "needs_background": "light"
     },
     "output_type": "display_data"
    }
   ],
   "source": [
    "# SVM with rbf kernel\n",
    "from sklearn.svm import SVC\n",
    "clf2 = SVC(kernel='rbf')\n",
    "clf2.fit(X_train_mm, y_train)\n",
    "print('Training accuracy:', clf2.score(X_train_mm, y_train))\n",
    "print(\"non standardize:\",clf2.score(X_test_mm, y_test))\n",
    "metrics.plot_roc_curve(clf2, X_test_mm, y_test) "
   ]
  },
  {
   "cell_type": "code",
   "execution_count": 13,
   "id": "1a6a7a89",
   "metadata": {},
   "outputs": [
    {
     "name": "stdout",
     "output_type": "stream",
     "text": [
      "Training accuracy: 0.9273743016759777\n",
      "non standardize: 0.95\n"
     ]
    },
    {
     "name": "stderr",
     "output_type": "stream",
     "text": [
      "C:\\Users\\vuduc\\anaconda3\\lib\\site-packages\\sklearn\\utils\\deprecation.py:87: FutureWarning: Function plot_roc_curve is deprecated; Function :func:`plot_roc_curve` is deprecated in 1.0 and will be removed in 1.2. Use one of the class methods: :meth:`sklearn.metric.RocCurveDisplay.from_predictions` or :meth:`sklearn.metric.RocCurveDisplay.from_estimator`.\n",
      "  warnings.warn(msg, category=FutureWarning)\n"
     ]
    },
    {
     "data": {
      "text/plain": [
       "<sklearn.metrics._plot.roc_curve.RocCurveDisplay at 0x1c445f6e130>"
      ]
     },
     "execution_count": 13,
     "metadata": {},
     "output_type": "execute_result"
    },
    {
     "data": {
      "image/png": "[encoded data removed]",
      "text/plain": [
       "<Figure size 432x288 with 1 Axes>"
      ]
     },
     "metadata": {
      "needs_background": "light"
     },
     "output_type": "display_data"
    }
   ],
   "source": [
    "#logistic regression\n",
    "from sklearn.linear_model import LogisticRegression \n",
    "# linear classifier\n",
    "model = LogisticRegression(penalty=\"l2\", random_state=0)\n",
    "model.fit(X_train_mm, y_train)\n",
    "print('Training accuracy:', model.score(X_train_mm, y_train))\n",
    "print(\"non standardize:\", model.score(X_test_mm, y_test))\n",
    "metrics.plot_roc_curve(model, X_test_mm, y_test) "
   ]
  },
  {
   "cell_type": "code",
   "execution_count": 14,
   "id": "ce349580",
   "metadata": {},
   "outputs": [
    {
     "name": "stdout",
     "output_type": "stream",
     "text": [
      "Training accuracy: 0.88268156424581\n",
      "non standardize: 0.9\n"
     ]
    },
    {
     "name": "stderr",
     "output_type": "stream",
     "text": [
      "C:\\Users\\vuduc\\anaconda3\\lib\\site-packages\\sklearn\\utils\\deprecation.py:87: FutureWarning: Function plot_roc_curve is deprecated; Function :func:`plot_roc_curve` is deprecated in 1.0 and will be removed in 1.2. Use one of the class methods: :meth:`sklearn.metric.RocCurveDisplay.from_predictions` or :meth:`sklearn.metric.RocCurveDisplay.from_estimator`.\n",
      "  warnings.warn(msg, category=FutureWarning)\n"
     ]
    },
    {
     "data": {
      "text/plain": [
       "<sklearn.metrics._plot.roc_curve.RocCurveDisplay at 0x1c445edd9d0>"
      ]
     },
     "execution_count": 14,
     "metadata": {},
     "output_type": "execute_result"
    },
    {
     "data": {
      "image/png": "[encoded data removed]",
      "text/plain": [
       "<Figure size 432x288 with 1 Axes>"
      ]
     },
     "metadata": {
      "needs_background": "light"
     },
     "output_type": "display_data"
    }
   ],
   "source": [
    "#KNN\n",
    "from sklearn.neighbors import KNeighborsClassifier \n",
    "\n",
    "knn = KNeighborsClassifier(n_neighbors=11, p=2, n_jobs=-1)\n",
    "knn.fit(X_train_mm, y_train)\n",
    "print('Training accuracy:', knn.score(X_train_mm, y_train))\n",
    "print(\"non standardize:\", knn.score(X_test_mm, y_test))\n",
    "metrics.plot_roc_curve(knn, X_test_mm, y_test)"
   ]
  },
  {
   "cell_type": "code",
   "execution_count": 15,
   "id": "d9e7ad85",
   "metadata": {},
   "outputs": [
    {
     "data": {
      "text/plain": [
       "<matplotlib.legend.Legend at 0x1c447472c10>"
      ]
     },
     "execution_count": 15,
     "metadata": {},
     "output_type": "execute_result"
    },
    {
     "data": {
      "image/png": "[encoded data removed]",
      "text/plain": [
       "<Figure size 432x288 with 1 Axes>"
      ]
     },
     "metadata": {
      "needs_background": "light"
     },
     "output_type": "display_data"
    }
   ],
   "source": [
    "# Plot ROC curve\n",
    "# fpr, tpr, thresh, auc\n",
    "\n",
    "models = [\n",
    "    {\n",
    "        'label': 'Logistic Regression',\n",
    "        'model': LogisticRegression(penalty=\"l2\", random_state=0),\n",
    "    },\n",
    "    {\n",
    "        'label' : 'RF 100',\n",
    "        'model': RandomForestClassifier(n_estimators=100, random_state=0),\n",
    "    },\n",
    "    {\n",
    "        'label' : 'RF 50',\n",
    "        'model': RandomForestClassifier(n_estimators=50, random_state=0),\n",
    "    },\n",
    "    {\n",
    "        'label' : 'SVM Linear',\n",
    "        'model': SVC(kernel='linear',probability=True),\n",
    "    },\n",
    "    {\n",
    "        'label' : 'SVM RBF',\n",
    "        'model': SVC(kernel='rbf',probability=True),\n",
    "    },\n",
    "    {\n",
    "        'label' : 'KNN-15 nei',\n",
    "        'model': KNeighborsClassifier(n_neighbors=11, p=2, n_jobs=-1),\n",
    "    },\n",
    "]\n",
    "\n",
    "plt.figure(0).clf()\n",
    "\n",
    "for m in models:\n",
    "    model = m['model'] # select the model\n",
    "    model.fit(X_train_mm, y_train) # train the model\n",
    "    y_pred=model.predict(X_test_mm) # predict the test data\n",
    "# Compute False postive rate, and True positive rate\n",
    "    fpr, tpr, thresholds = metrics.roc_curve(y_test, model.predict_proba(X_test_mm)[:,1])\n",
    "# Calculate Area under the curve to display on the plot\n",
    "    auc = metrics.auc(fpr,tpr)\n",
    "# Now, plot the computed values\n",
    "    plt.plot(fpr, tpr, label='%s ROC (AUC = %0.2f)' % (m['label'], auc))\n",
    "# # Custom settings for the plot \n",
    "\n",
    "# for m in models:\n",
    "#     model = m['model']\n",
    "#     model.fit(X_train_std, y_train)\n",
    "#     metrics.plot_roc_curve(m['model'], X_test_std, y_test)\n",
    "plt.plot([0, 1], [0, 1],'r--')\n",
    "plt.xlim([0.0, 1.0])\n",
    "plt.ylim([0.0, 1.05])\n",
    "plt.xlabel('False Positive Rate')\n",
    "plt.ylabel('True Positive Rate')\n",
    "plt.title('Receiver Operating Characteristic')\n",
    "plt.legend(loc=\"lower right\")\n",
    "    "
   ]
  },
  {
   "cell_type": "code",
   "execution_count": 16,
   "id": "1d29852d",
   "metadata": {},
   "outputs": [
    {
     "data": {
      "text/plain": [
       "array([0.02136457, 0.00466557, 0.01399121, 0.00715407, 0.00604543,\n",
       "       0.01482351, 0.00545473, 0.01333948, 0.00497304, 0.00331213,\n",
       "       0.00148779, 0.01315375, 0.        , 0.02836758, 0.01188725,\n",
       "       0.00796829, 0.0071834 , 0.00530591, 0.00066741, 0.00422707,\n",
       "       0.00402134, 0.00512388, 0.00411679, 0.01065413, 0.02020184,\n",
       "       0.00103283, 0.00583315, 0.00153161, 0.00615547, 0.00333693,\n",
       "       0.0313456 , 0.00298755, 0.00387475, 0.00259487, 0.00910394,\n",
       "       0.01226917, 0.01350053, 0.00152427, 0.00512431, 0.02551896,\n",
       "       0.01930138, 0.02006159, 0.01245178, 0.01121325, 0.00551246,\n",
       "       0.        , 0.01541005, 0.01271598, 0.02776337, 0.00591051,\n",
       "       0.02553   , 0.00528349, 0.01017674, 0.        , 0.00829791,\n",
       "       0.00558118, 0.00880636, 0.00138221, 0.01404191, 0.00132606,\n",
       "       0.01151475, 0.00730389, 0.01063165, 0.00891567, 0.02157958,\n",
       "       0.00916855, 0.01650904, 0.00453588, 0.00602447, 0.00427219,\n",
       "       0.01191042, 0.00216184, 0.00314055, 0.00412004, 0.01061668,\n",
       "       0.00116345, 0.02072002, 0.00173885, 0.0131011 , 0.01946741,\n",
       "       0.00273371, 0.00720905, 0.00747093, 0.00740749, 0.02595757,\n",
       "       0.00165397, 0.00389403, 0.00775586, 0.01288781, 0.01431742,\n",
       "       0.01427808, 0.0087952 , 0.01281669, 0.0184782 , 0.00569509,\n",
       "       0.00752703, 0.01229638, 0.01463638, 0.01527612, 0.00943121,\n",
       "       0.00285305, 0.00952972, 0.00341148, 0.00367872, 0.        ,\n",
       "       0.01321715, 0.00587388, 0.00633141])"
      ]
     },
     "execution_count": 16,
     "metadata": {},
     "output_type": "execute_result"
    }
   ],
   "source": [
    "rf.feature_importances_"
   ]
  },
  {
   "cell_type": "code",
   "execution_count": 17,
   "id": "ff54d7b5",
   "metadata": {},
   "outputs": [],
   "source": [
    "# 10 fold before select feature\n",
    "from sklearn.preprocessing import MinMaxScaler\n",
    "from sklearn.preprocessing import StandardScaler\n",
    "\n",
    "#read data for 10 fold test\n",
    "## note: X filtered\n",
    "# df = pd.read_csv(data_file)\n",
    "# marker_gene = degs_gene_data.columns[1:][list(sfs1.k_feature_idx_)]\n",
    "\n",
    "new_y = degs_gene_data[\"label\"]\n",
    "new_X = X\n",
    "\n",
    "# normalize data\n",
    "mm = MinMaxScaler()\n",
    "X_new = mm.fit_transform(new_X, new_y)\n",
    "# standardize\n",
    "# sc = StandardScaler()\n",
    "# X_new = sc.fit_transform(X_, new_y)\n"
   ]
  },
  {
   "cell_type": "code",
   "execution_count": 18,
   "id": "4a6391a1",
   "metadata": {},
   "outputs": [
    {
     "data": {
      "text/plain": [
       "0      1\n",
       "1      0\n",
       "2      1\n",
       "3      1\n",
       "4      1\n",
       "      ..\n",
       "194    0\n",
       "195    0\n",
       "196    0\n",
       "197    0\n",
       "198    0\n",
       "Name: label, Length: 199, dtype: int64"
      ]
     },
     "execution_count": 18,
     "metadata": {},
     "output_type": "execute_result"
    }
   ],
   "source": [
    "new_y"
   ]
  },
  {
   "cell_type": "code",
   "execution_count": 19,
   "id": "c61a8530",
   "metadata": {},
   "outputs": [],
   "source": [
    "from sklearn.model_selection import StratifiedKFold, KFold\n",
    "from sklearn.metrics import *\n",
    "from sklearn.metrics import mean_absolute_error, mean_squared_error, r2_score\n",
    "from scipy import interp\n",
    "\n",
    "num_runs = 10\n",
    "\n",
    "def get_labels (probs, cutoff=0.5):\n",
    "    size  = np.shape(probs)[0]\n",
    "    labels = np.zeros(size)\n",
    "    for i in range (size):\n",
    "        if (probs[i] < cutoff):\n",
    "            labels[i] = 0\n",
    "        else:\n",
    "            labels[i] = 1\n",
    "    return labels\n"
   ]
  },
  {
   "cell_type": "code",
   "execution_count": 20,
   "id": "89ea9fb0",
   "metadata": {},
   "outputs": [],
   "source": [
    "# return: Accuracy, Sensitivity, Specificity,  Matthew Correlation Coefficients, and AUC scores.\n",
    "def evaluate(Y_true, Y_pred, cutoff=0.5):\n",
    "#     fpr, tpr, thresholds = metrics.roc_curve(Y_true, model.predict_proba(X_test)[:,1])\n",
    "    # Calculate Area under the curve to display on the plot\n",
    "#     auc = metrics.auc(fpr,tpr)\n",
    "    \n",
    "    Y_score = get_labels(Y_pred, cutoff)\n",
    "    mcc = matthews_corrcoef(Y_true, Y_score)\n",
    "    acc = accuracy_score(Y_true, Y_score)\n",
    "    auc = roc_auc_score(Y_true, Y_pred)\n",
    "    cm = confusion_matrix(Y_true, Y_score, labels=[1,0])\n",
    "    #print(cm)\n",
    "    tp = cm[0,0]\n",
    "    fp = cm[1,0]\n",
    "    tn = cm[1,1]\n",
    "    fn = cm[0,1]\n",
    "    ap = tp + fn\n",
    "    an = tn + fp\n",
    "    total = ap + an\n",
    "    # compute Sn and Sp\n",
    "    sn = tp/ap\n",
    "    sp = tn/an\n",
    "\n",
    "    # return TP, FN, FP, TN, total, acc, Sn, Sp, MCC, AUC\n",
    "    return  np.array([acc, sn, sp, mcc, auc])"
   ]
  },
  {
   "cell_type": "code",
   "execution_count": 21,
   "id": "77c88b37",
   "metadata": {},
   "outputs": [
    {
     "data": {
      "text/plain": [
       "array([0.  , 0.02, 0.04, 0.06, 0.08, 0.1 , 0.12, 0.14, 0.16, 0.18, 0.2 ,\n",
       "       0.22, 0.24, 0.26, 0.28, 0.3 , 0.32, 0.34, 0.36, 0.38, 0.4 , 0.42,\n",
       "       0.44, 0.46, 0.48, 0.5 , 0.52, 0.54, 0.56, 0.58, 0.6 , 0.62, 0.64,\n",
       "       0.66, 0.68, 0.7 , 0.72, 0.74, 0.76, 0.78, 0.8 , 0.82, 0.84, 0.86,\n",
       "       0.88, 0.9 , 0.92, 0.94, 0.96, 0.98, 1.  ])"
      ]
     },
     "execution_count": 21,
     "metadata": {},
     "output_type": "execute_result"
    }
   ],
   "source": [
    "np.linspace(0, 1, 51)"
   ]
  },
  {
   "cell_type": "code",
   "execution_count": 22,
   "id": "9f8281cc",
   "metadata": {},
   "outputs": [],
   "source": [
    "def cross_validation(X, y, model, num_folds=10, random_state=0, n_runs=1, verbose=False, threshold=0.5):\n",
    "    res = np.zeros(shape=(num_folds * n_runs, 5)) # 5 number of metrics\n",
    "    base_fpr = np.linspace(0, 1, 51) #add a new parameter for 51\n",
    "    tprs = []\n",
    "    \n",
    "    count = 0\n",
    "    for cv_run in range(n_runs):\n",
    "        skf = StratifiedKFold(n_splits=num_folds, random_state=random_state, shuffle=True)\n",
    "        for train_index, test_index in skf.split(X,y):\n",
    "            X_train, X_test = X[train_index], X[test_index]\n",
    "            y_train, y_test = y[train_index], y[test_index]\n",
    "            \n",
    "            train_filtered = X_train\n",
    "            test_filtered = X_test\n",
    "            \n",
    "            try:\n",
    "                Y_pred = model.fit(train_filtered, y_train).predict_proba(test_filtered)[:,1]\n",
    "            except:\n",
    "                Y_pred = model.fit(train_filtered, y_train).predict(test_filtered)\n",
    "                \n",
    "            res[count, :] = evaluate(test_filtered, y_test, Y_pred, cutoff=threshold)\n",
    "            \n",
    "#             fpr, tpr, _ = metrics.roc_curve(y_test, model.predict_proba(test_filtered)[:,1])\n",
    "#             fpr, tpr, thresholds = metrics.roc_curve(y_test, model.predict_proba(X_test_std)[:,1])\n",
    "            fpr, tpr, _ = roc_curve(y_test, Y_pred)\n",
    "            tpr = interp(base_fpr, fpr, tpr)\n",
    "            tpr[0] = 0.0\n",
    "            tprs.append(tpr)\n",
    "            count += 1\n",
    "\n",
    "    tprs = np.array(tprs)\n",
    "    mean_tprs = tprs.mean(axis=0)\n",
    "    std = tprs.std(axis=0)\n",
    "\n",
    "    rVal = {}\n",
    "    rVal['metrics'] = np.mean(res, axis=0)\n",
    "    rVal['metrics_std'] = np.std(res, axis=0)\n",
    "    rVal['fpr'] = base_fpr\n",
    "    rVal['tpr'] = mean_tprs\n",
    "    return rVal"
   ]
  },
  {
   "cell_type": "code",
   "execution_count": 23,
   "id": "664808ea",
   "metadata": {},
   "outputs": [
    {
     "ename": "TypeError",
     "evalue": "evaluate() got multiple values for argument 'cutoff'",
     "output_type": "error",
     "traceback": [
      "\u001b[1;31m---------------------------------------------------------------------------\u001b[0m",
      "\u001b[1;31mTypeError\u001b[0m                                 Traceback (most recent call last)",
      "\u001b[1;32m<ipython-input-23-43c2e71d0e2c>\u001b[0m in \u001b[0;36m<module>\u001b[1;34m\u001b[0m\n\u001b[0;32m      5\u001b[0m \u001b[1;32mfor\u001b[0m \u001b[0mm\u001b[0m \u001b[1;32min\u001b[0m \u001b[0mmodels\u001b[0m\u001b[1;33m:\u001b[0m\u001b[1;33m\u001b[0m\u001b[1;33m\u001b[0m\u001b[0m\n\u001b[0;32m      6\u001b[0m     \u001b[0mmodel\u001b[0m \u001b[1;33m=\u001b[0m \u001b[0mm\u001b[0m\u001b[1;33m[\u001b[0m\u001b[1;34m'model'\u001b[0m\u001b[1;33m]\u001b[0m\u001b[1;33m\u001b[0m\u001b[1;33m\u001b[0m\u001b[0m\n\u001b[1;32m----> 7\u001b[1;33m     \u001b[0mres\u001b[0m \u001b[1;33m=\u001b[0m \u001b[0mcross_validation\u001b[0m\u001b[1;33m(\u001b[0m\u001b[0mX_new\u001b[0m\u001b[1;33m,\u001b[0m \u001b[0mnew_y\u001b[0m\u001b[1;33m,\u001b[0m \u001b[0mmodel\u001b[0m\u001b[1;33m,\u001b[0m \u001b[0mnum_folds\u001b[0m\u001b[1;33m=\u001b[0m\u001b[1;36m10\u001b[0m\u001b[1;33m,\u001b[0m \u001b[0mn_runs\u001b[0m\u001b[1;33m=\u001b[0m\u001b[0mnum_runs\u001b[0m\u001b[1;33m)\u001b[0m\u001b[1;33m\u001b[0m\u001b[1;33m\u001b[0m\u001b[0m\n\u001b[0m\u001b[0;32m      8\u001b[0m     \u001b[0mprint\u001b[0m\u001b[1;33m(\u001b[0m\u001b[1;34m'{0}: {1}'\u001b[0m\u001b[1;33m.\u001b[0m\u001b[0mformat\u001b[0m\u001b[1;33m(\u001b[0m\u001b[0mm\u001b[0m\u001b[1;33m[\u001b[0m\u001b[1;34m'label'\u001b[0m\u001b[1;33m]\u001b[0m\u001b[1;33m,\u001b[0m \u001b[0mres\u001b[0m\u001b[1;33m[\u001b[0m\u001b[1;34m'metrics'\u001b[0m\u001b[1;33m]\u001b[0m\u001b[1;33m)\u001b[0m\u001b[1;33m)\u001b[0m\u001b[1;33m\u001b[0m\u001b[1;33m\u001b[0m\u001b[0m\n\u001b[0;32m      9\u001b[0m     \u001b[0mplt\u001b[0m\u001b[1;33m.\u001b[0m\u001b[0mplot\u001b[0m\u001b[1;33m(\u001b[0m\u001b[0mres\u001b[0m\u001b[1;33m[\u001b[0m\u001b[1;34m'fpr'\u001b[0m\u001b[1;33m]\u001b[0m\u001b[1;33m,\u001b[0m \u001b[0mres\u001b[0m\u001b[1;33m[\u001b[0m\u001b[1;34m'tpr'\u001b[0m\u001b[1;33m]\u001b[0m\u001b[1;33m,\u001b[0m \u001b[0mlabel\u001b[0m\u001b[1;33m=\u001b[0m\u001b[0mm\u001b[0m\u001b[1;33m[\u001b[0m\u001b[1;34m'label'\u001b[0m\u001b[1;33m]\u001b[0m\u001b[1;33m+\u001b[0m\u001b[1;34m', AUC='\u001b[0m\u001b[1;33m+\u001b[0m\u001b[0mstr\u001b[0m\u001b[1;33m(\u001b[0m\u001b[0mround\u001b[0m\u001b[1;33m(\u001b[0m\u001b[0mres\u001b[0m\u001b[1;33m[\u001b[0m\u001b[1;34m'metrics'\u001b[0m\u001b[1;33m]\u001b[0m\u001b[1;33m[\u001b[0m\u001b[1;36m4\u001b[0m\u001b[1;33m]\u001b[0m\u001b[1;33m,\u001b[0m\u001b[1;36m2\u001b[0m\u001b[1;33m)\u001b[0m\u001b[1;33m)\u001b[0m\u001b[1;33m,\u001b[0m \u001b[0mlinewidth\u001b[0m\u001b[1;33m=\u001b[0m\u001b[1;36m2\u001b[0m\u001b[1;33m)\u001b[0m\u001b[1;33m\u001b[0m\u001b[1;33m\u001b[0m\u001b[0m\n",
      "\u001b[1;32m<ipython-input-22-eb96915b02c5>\u001b[0m in \u001b[0;36mcross_validation\u001b[1;34m(X, y, model, num_folds, random_state, n_runs, verbose, threshold)\u001b[0m\n\u001b[0;32m     19\u001b[0m                 \u001b[0mY_pred\u001b[0m \u001b[1;33m=\u001b[0m \u001b[0mmodel\u001b[0m\u001b[1;33m.\u001b[0m\u001b[0mfit\u001b[0m\u001b[1;33m(\u001b[0m\u001b[0mtrain_filtered\u001b[0m\u001b[1;33m,\u001b[0m \u001b[0my_train\u001b[0m\u001b[1;33m)\u001b[0m\u001b[1;33m.\u001b[0m\u001b[0mpredict\u001b[0m\u001b[1;33m(\u001b[0m\u001b[0mtest_filtered\u001b[0m\u001b[1;33m)\u001b[0m\u001b[1;33m\u001b[0m\u001b[1;33m\u001b[0m\u001b[0m\n\u001b[0;32m     20\u001b[0m \u001b[1;33m\u001b[0m\u001b[0m\n\u001b[1;32m---> 21\u001b[1;33m             \u001b[0mres\u001b[0m\u001b[1;33m[\u001b[0m\u001b[0mcount\u001b[0m\u001b[1;33m,\u001b[0m \u001b[1;33m:\u001b[0m\u001b[1;33m]\u001b[0m \u001b[1;33m=\u001b[0m \u001b[0mevaluate\u001b[0m\u001b[1;33m(\u001b[0m\u001b[0mtest_filtered\u001b[0m\u001b[1;33m,\u001b[0m \u001b[0my_test\u001b[0m\u001b[1;33m,\u001b[0m \u001b[0mY_pred\u001b[0m\u001b[1;33m,\u001b[0m \u001b[0mcutoff\u001b[0m\u001b[1;33m=\u001b[0m\u001b[0mthreshold\u001b[0m\u001b[1;33m)\u001b[0m\u001b[1;33m\u001b[0m\u001b[1;33m\u001b[0m\u001b[0m\n\u001b[0m\u001b[0;32m     22\u001b[0m \u001b[1;33m\u001b[0m\u001b[0m\n\u001b[0;32m     23\u001b[0m \u001b[1;31m#             fpr, tpr, _ = metrics.roc_curve(y_test, model.predict_proba(test_filtered)[:,1])\u001b[0m\u001b[1;33m\u001b[0m\u001b[1;33m\u001b[0m\u001b[1;33m\u001b[0m\u001b[0m\n",
      "\u001b[1;31mTypeError\u001b[0m: evaluate() got multiple values for argument 'cutoff'"
     ]
    },
    {
     "data": {
      "image/png": "[encoded data removed]",
      "text/plain": [
       "<Figure size 864x864 with 1 Axes>"
      ]
     },
     "metadata": {
      "needs_background": "light"
     },
     "output_type": "display_data"
    }
   ],
   "source": [
    "# do 10fold classification\n",
    "plt.figure(figsize=(12, 12))\n",
    "plt.xlabel('False Positive Rate', fontsize='x-large')\n",
    "plt.ylabel('True Positive Rate', fontsize='x-large')\n",
    "for m in models:\n",
    "    model = m['model']\n",
    "    res = cross_validation(X_new, new_y, model, num_folds=10, n_runs=num_runs)\n",
    "    print('{0}: {1}'.format(m['label'], res['metrics']))\n",
    "    plt.plot(res['fpr'], res['tpr'], label=m['label']+', AUC='+str(round(res['metrics'][4],2)), linewidth=2)\n",
    "leg = plt.legend(loc='best', fontsize='x-large')\n",
    "plt.plot([0, 1], [0, 1],'r--')\n",
    "plt.show()"
   ]
  },
  {
   "cell_type": "markdown",
   "id": "5521bef1",
   "metadata": {},
   "source": [
    "# Feature selection with Sequence Forward Selection "
   ]
  },
  {
   "cell_type": "code",
   "execution_count": null,
   "id": "92d72a9a",
   "metadata": {
    "scrolled": true
   },
   "outputs": [],
   "source": [
    "from mlxtend.feature_selection import SequentialFeatureSelector as SFS\n",
    "from sklearn.linear_model import SGDClassifier\n",
    "from xgboost.sklearn import XGBClassifier\n",
    "from sklearn.linear_model import LogisticRegression \n",
    "# Set random seed\n",
    "seed = 10\n",
    "np.random.seed(seed)\n",
    "# xgboost = XGBClassifier(max_depth = )\n",
    "sfs1 = SFS(rf,\n",
    "          k_features = 10,\n",
    "          forward=True,\n",
    "          floating=False,\n",
    "          verbose=2,\n",
    "          scoring='accuracy',\n",
    "          n_jobs=-1,\n",
    "          cv=10)\n",
    "\n",
    "# sfs1 = sfs1.fit(X_train_mm, y_train)"
   ]
  },
  {
   "cell_type": "code",
   "execution_count": null,
   "id": "bdb705d8",
   "metadata": {},
   "outputs": [],
   "source": [
    "# 10-fold get feature importance\n",
    "def get_most_importance_feature(model, X_new, new_y, num_features, cv):\n",
    "    for cv_run in range(n_runs):\n",
    "        skf = StratifiedKFold(n_splits=num_folds, random_state=random_state, shuffle=True)\n",
    "        for train_index, test_index in skf.split(X_new,new_y):\n",
    "            X_train, X_test = X[train_index], X[test_index]\n",
    "            y_train, y_test = y[train_index], y[test_index]\n",
    "            \n",
    "            train_filtered = X_train\n",
    "            test_filtered = X_test\n",
    "            sfs1 = SFS(\n",
    "                  model,\n",
    "                  k_features = num_features,\n",
    "                  forward=True,\n",
    "                  floating=False,\n",
    "                  verbose=2,\n",
    "                  scoring='accuracy',\n",
    "                  n_jobs=-1,\n",
    "                  cv=cv)\n",
    "            try:\n",
    "                sfs1 = sfs1.fit(train_filtered, new_y)\n",
    "            except:\n",
    "                print(\"Some thing wrong check your input\")\n",
    "            \n",
    "            collect_gene = degs_gene_data.columns[1:][list(sfs1.k_feature_idx_)]\n",
    "                \n",
    "                \n",
    "            \n",
    "    "
   ]
  },
  {
   "cell_type": "code",
   "execution_count": null,
   "id": "92af9a52",
   "metadata": {},
   "outputs": [],
   "source": [
    "metric_dict = sfs1.get_metric_dict(confidence_interval=0.95)\n",
    "metric_dict"
   ]
  },
  {
   "cell_type": "code",
   "execution_count": null,
   "id": "5e9330ad",
   "metadata": {
    "scrolled": true
   },
   "outputs": [],
   "source": [
    "# plot\n",
    "metric_dict = sfs1.get_metric_dict(confidence_interval=0.95)\n",
    "\n",
    "df = pd.DataFrame.from_dict(metric_dict).T\n",
    "\n",
    "from mlxtend.plotting import plot_sequential_feature_selection as plot_sfs\n",
    "fig1 = plot_sfs(metric_dict, kind='std_dev')\n",
    "plt.title('sequentail forward selection (w.stdDev)')\n",
    "plt.grid()\n",
    "plt.show()"
   ]
  },
  {
   "cell_type": "code",
   "execution_count": null,
   "id": "fa45e1ea",
   "metadata": {},
   "outputs": [],
   "source": [
    "list(sfs1.k_feature_idx_)"
   ]
  },
  {
   "cell_type": "code",
   "execution_count": null,
   "id": "b1ffdb7f",
   "metadata": {},
   "outputs": [],
   "source": [
    "degs_gene_data.columns[1:][list(sfs1.k_feature_idx_)]"
   ]
  },
  {
   "cell_type": "code",
   "execution_count": null,
   "id": "1cb291f4",
   "metadata": {},
   "outputs": [],
   "source": [
    "# train with same dataset\n"
   ]
  },
  {
   "cell_type": "code",
   "execution_count": null,
   "id": "5c9f958b",
   "metadata": {},
   "outputs": [],
   "source": [
    "X, y = degs_gene_data.iloc[:,0:108].values, degs_gene_data.iloc[:,108].values\n",
    "X_train, X_test, y_train, y_test = train_test_split(X, y, test_size = 0.1, random_state=11233,\n",
    "                                                   shuffle=True)"
   ]
  },
  {
   "cell_type": "code",
   "execution_count": null,
   "id": "34380c54",
   "metadata": {},
   "outputs": [],
   "source": [
    "X_train_df = pd.DataFrame(X_train)\n",
    "X_test_df = pd.DataFrame(X_test)\n",
    "X_train_df"
   ]
  },
  {
   "cell_type": "code",
   "execution_count": null,
   "id": "8236c617",
   "metadata": {},
   "outputs": [],
   "source": [
    "mm = MinMaxScaler()\n",
    "X_train_mm = mm.fit_transform(X_train_df.iloc[:,list(sfs1.k_feature_idx_)], y_train)\n",
    "X_test_mm = mm.transform(X_test_df.iloc[:,list(sfs1.k_feature_idx_)])\n",
    "\n",
    "#feature Standardize\n",
    "\n",
    "sc = StandardScaler()\n",
    "X_train_std = sc.fit_transform(X_train_mm)\n",
    "X_test_std = sc.transform(X_test_mm)\n",
    "\n",
    "# plt.bar(list(range(179)),X_train_std[0:179,0])"
   ]
  },
  {
   "cell_type": "code",
   "execution_count": null,
   "id": "313ea9f8",
   "metadata": {},
   "outputs": [],
   "source": [
    "X_train_std.shape"
   ]
  },
  {
   "cell_type": "code",
   "execution_count": null,
   "id": "60063bb2",
   "metadata": {},
   "outputs": [],
   "source": [
    "X_train_mm.shape"
   ]
  },
  {
   "cell_type": "code",
   "execution_count": null,
   "id": "a1b1a46c",
   "metadata": {},
   "outputs": [],
   "source": [
    "import matplotlib.pyplot as plt\n",
    "from sklearn import metrics\n",
    "rf2 = RandomForestClassifier(n_estimators=50, random_state=0)\n",
    "rf2.fit(X_train_mm, y_train)\n",
    "\n",
    "# roc/auc data\n",
    "# y_pred = rf2.predict(X_test_std)\n",
    "# fpr, tpr, thresh = metrics.roc_curve(y_test, y_pred)\n",
    "# auc = metrics.roc_auc_score(y_test,y_pred)\n",
    "\n",
    "print('Training accuracy:', rf2.score(X_train_mm, y_train))\n",
    "print(\"Test acc:\", rf2.score(X_test_mm, y_test))\n",
    "metrics.plot_roc_curve(rf2, X_test_mm, y_test) "
   ]
  },
  {
   "cell_type": "code",
   "execution_count": null,
   "id": "4f9c550b",
   "metadata": {},
   "outputs": [],
   "source": [
    "rf2 = RandomForestClassifier(n_estimators=100, random_state=0)\n",
    "rf2.fit(X_train_mm, y_train)\n",
    "# rf2.score(X_test_std2, y_test2)\n",
    "print('Training accuracy:', rf2.score(X_train_mm, y_train))\n",
    "print(\"Test acc:\", rf2.score(X_test_mm, y_test))\n",
    "metrics.plot_roc_curve(rf2, X_test_mm, y_test) \n",
    "\n"
   ]
  },
  {
   "cell_type": "code",
   "execution_count": null,
   "id": "927bac6e",
   "metadata": {},
   "outputs": [],
   "source": [
    "# Using SVM to test feature selection\n",
    "from sklearn.svm import SVC\n",
    "clf = SVC(kernel='linear')\n",
    "clf.fit(X_train_mm, y_train)\n",
    "print('Training accuracy:', clf.score(X_train_mm, y_train))\n",
    "print(\"non standardize:\",clf.score(X_test_mm, y_test))\n",
    "metrics.plot_roc_curve(clf, X_test_mm, y_test) "
   ]
  },
  {
   "cell_type": "code",
   "execution_count": null,
   "id": "11edae18",
   "metadata": {},
   "outputs": [],
   "source": [
    "\n",
    "# Using SVM to test feature selection\n",
    "from sklearn.svm import SVC\n",
    "clf = SVC(kernel='rbf')\n",
    "clf.fit(X_train_mm, y_train)\n",
    "print('Training accuracy:', clf.score(X_train_mm, y_train))\n",
    "print(\"non standardize:\",clf.score(X_test_mm, y_test))\n",
    "metrics.plot_roc_curve(clf, X_test_mm, y_test) "
   ]
  },
  {
   "cell_type": "code",
   "execution_count": null,
   "id": "021ff841",
   "metadata": {},
   "outputs": [],
   "source": [
    "from sklearn.linear_model import LogisticRegression \n",
    "# linear classifier\n",
    "model = LogisticRegression(penalty=\"l2\", random_state=0)\n",
    "model.fit(X_train_mm, y_train)\n",
    "print('Training accuracy:', model.score(X_train_mm, y_train))\n",
    "print(\"non standardize:\", model.score(X_test_mm, y_test))"
   ]
  },
  {
   "cell_type": "code",
   "execution_count": null,
   "id": "751d4f7d",
   "metadata": {},
   "outputs": [],
   "source": [
    "import matplotlib.pyplot as plt\n",
    "from sklearn import metrics\n",
    "metrics.plot_roc_curve(model, X_test_mm, y_test) "
   ]
  },
  {
   "cell_type": "code",
   "execution_count": null,
   "id": "695cb998",
   "metadata": {},
   "outputs": [],
   "source": [
    "from sklearn.neighbors import KNeighborsClassifier \n",
    "\n",
    "knn = KNeighborsClassifier(n_neighbors=11, p=2, n_jobs=-1)\n",
    "knn.fit(X_train_mm, y_train)\n",
    "print('Training accuracy:', knn.score(X_train_mm, y_train))\n",
    "print(\"non standardize:\", knn.score(X_test_mm, y_test))\n",
    "metrics.plot_roc_curve(knn, X_test_mm, y_test) "
   ]
  },
  {
   "cell_type": "code",
   "execution_count": null,
   "id": "21dbc314",
   "metadata": {},
   "outputs": [],
   "source": [
    "# Plot ROC curve\n",
    "# fpr, tpr, thresh, auc\n",
    "\n",
    "models = [\n",
    "    {\n",
    "        'label': 'Logistic Regression',\n",
    "        'model': LogisticRegression(penalty=\"l2\", random_state=0),\n",
    "    },\n",
    "    {\n",
    "        'label' : 'RF 100',\n",
    "        'model': RandomForestClassifier(n_estimators=100, random_state=0),\n",
    "    },\n",
    "    {\n",
    "        'label' : 'RF 50',\n",
    "        'model': RandomForestClassifier(n_estimators=50, random_state=0),\n",
    "    },\n",
    "    {\n",
    "        'label' : 'SVM Linear',\n",
    "        'model': SVC(kernel='linear',probability=True),\n",
    "    },\n",
    "    {\n",
    "        'label' : 'SVM RBF',\n",
    "        'model': SVC(kernel='rbf',probability=True),\n",
    "    },\n",
    "    {\n",
    "        'label' : 'KNN-15 nei',\n",
    "        'model': KNeighborsClassifier(n_neighbors=11, p=2, n_jobs=-1),\n",
    "    },\n",
    "]\n",
    "\n",
    "plt.figure(0).clf()\n",
    "\n",
    "for m in models:\n",
    "    model = m['model'] # select the model\n",
    "    model.fit(X_train_mm, y_train) # train the model\n",
    "    y_pred=model.predict(X_test_mm) # predict the test data\n",
    "# Compute False postive rate, and True positive rate\n",
    "    fpr, tpr, thresholds = metrics.roc_curve(y_test, model.predict_proba(X_test_mm)[:,1])\n",
    "# Calculate Area under the curve to display on the plot\n",
    "    auc = metrics.auc(fpr,tpr)\n",
    "# Now, plot the computed values\n",
    "    plt.plot(fpr, tpr, label='%s ROC (AUC = %0.2f)' % (m['label'], auc))\n",
    "# # Custom settings for the plot \n",
    "\n",
    "# for m in models:\n",
    "#     model = m['model']\n",
    "#     model.fit(X_train_std, y_train)\n",
    "#     metrics.plot_roc_curve(m['model'], X_test_std, y_test)\n",
    "plt.plot([0, 1], [0, 1],'r--')\n",
    "plt.xlim([0.0, 1.0])\n",
    "plt.ylim([0.0, 1.05])\n",
    "plt.xlabel('False Positive Rate')\n",
    "plt.ylabel('True Positive Rate')\n",
    "plt.title('Receiver Operating Characteristic')\n",
    "plt.legend(loc=\"lower right\")\n",
    "    "
   ]
  },
  {
   "cell_type": "code",
   "execution_count": null,
   "id": "73a83194",
   "metadata": {},
   "outputs": [],
   "source": [
    "from sklearn.preprocessing import MinMaxScaler\n",
    "from sklearn.preprocessing import StandardScaler\n",
    "\n",
    "#read data for 10 fold test\n",
    "## note: X filtered\n",
    "# df = pd.read_csv(data_file)\n",
    "marker_gene = degs_gene_data.columns[1:][list(sfs1.k_feature_idx_)]\n",
    "new_df = degs_gene_data[marker_gene].copy()\n",
    "new_y = degs_gene_data[\"label\"]\n",
    "new_X = new_df.values\n",
    "\n",
    "# normalize data\n",
    "mm = MinMaxScaler()\n",
    "X_new = mm.fit_transform(new_X, new_y)\n",
    "# standardize\n",
    "# sc = StandardScaler()\n",
    "# X_new = sc.fit_transform(X_, new_y)\n"
   ]
  },
  {
   "cell_type": "code",
   "execution_count": null,
   "id": "0697039f",
   "metadata": {},
   "outputs": [],
   "source": [
    "from sklearn.model_selection import StratifiedKFold, KFold\n",
    "\n",
    "skf = StratifiedKFold(n_splits=10, random_state=0, shuffle=True)\n",
    "for train_index, test_index in skf.split(X,y):\n",
    "        X_train, X_test = X[train_index], X[test_index]\n",
    "        y_train, y_test = y[train_index], y[test_index]\n",
    "        print(X_train.shape)"
   ]
  },
  {
   "cell_type": "code",
   "execution_count": null,
   "id": "b5728dbb",
   "metadata": {},
   "outputs": [],
   "source": [
    "# do 10fold classification\n",
    "plt.figure(figsize=(12, 12))\n",
    "plt.xlabel('False Positive Rate', fontsize='x-large')\n",
    "plt.ylabel('True Positive Rate', fontsize='x-large')\n",
    "for m in models:\n",
    "    model = m['model']\n",
    "    res = cross_validation(X_new, new_y, model, num_folds=10, n_runs=num_runs)\n",
    "    print('{0}: {1}'.format(m['label'], res['metrics']))\n",
    "    plt.plot(res['fpr'], res['tpr'], label=m['label']+', AUC='+str(round(res['metrics'][4],2)), linewidth=2)\n",
    "leg = plt.legend(loc='best', fontsize='x-large')\n",
    "plt.plot([0, 1], [0, 1],'r--')\n",
    "plt.show()"
   ]
  },
  {
   "cell_type": "code",
   "execution_count": null,
   "id": "395f6f27",
   "metadata": {},
   "outputs": [],
   "source": []
  }
 ],
 "metadata": {
  "kernelspec": {
   "display_name": "Python 3",
   "language": "python",
   "name": "python3"
  },
  "language_info": {
   "codemirror_mode": {
    "name": "ipython",
    "version": 3
   },
   "file_extension": ".py",
   "mimetype": "text/x-python",
   "name": "python",
   "nbconvert_exporter": "python",
   "pygments_lexer": "ipython3",
   "version": "3.8.8"
  }
 },
 "nbformat": 4,
 "nbformat_minor": 5
}
